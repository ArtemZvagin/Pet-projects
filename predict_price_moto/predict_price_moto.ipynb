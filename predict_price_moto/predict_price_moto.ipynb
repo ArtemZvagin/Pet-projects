{
 "cells": [
  {
   "cell_type": "code",
   "execution_count": 538,
   "id": "1d25bb95",
   "metadata": {},
   "outputs": [],
   "source": [
    "import json\n",
    "import pickle\n",
    "import requests\n",
    "import pandas as pd\n",
    "import numpy as np\n",
    "import seaborn as sns\n",
    "import matplotlib.pyplot as  plt\n",
    "from sklearn.model_selection import train_test_split, GridSearchCV, RandomizedSearchCV,cross_val_score\n",
    "from sklearn.linear_model import Ridge, Lasso\n",
    "from sklearn.ensemble import RandomForestRegressor\n",
    "from sklearn.preprocessing import StandardScaler\n",
    "from sklearn.metrics import mean_absolute_error, mean_squared_error\n",
    "\n",
    "pd.options.display.max_columns = 50\n",
    "pd.options.display.max_rows = 30\n",
    "\n",
    "from IPython.core.interactiveshell import InteractiveShell\n",
    "InteractiveShell.ast_node_interactivity = 'all'\n",
    "\n"
   ]
  },
  {
   "cell_type": "markdown",
   "id": "d1a2b165",
   "metadata": {},
   "source": [
    "# Data Understanding"
   ]
  },
  {
   "cell_type": "markdown",
   "id": "c9740cbf",
   "metadata": {},
   "source": [
    "## Сбор данных"
   ]
  },
  {
   "cell_type": "code",
   "execution_count": 4,
   "id": "7af01263",
   "metadata": {
    "code_folding": []
   },
   "outputs": [],
   "source": [
    "# Заголовок и url для запроса к auto.ru\n",
    "url = 'https://auto.ru/-/ajax/desktop/listing/'\n",
    "\n",
    "header = '''Здесь должен находиться заголовок запроса скопированный из браузера.\n",
    "            Удалил для конфиденциальности:)'''.strip().split('\\n')\n",
    "\n",
    "dict_header = {}\n",
    "\n",
    "for el in header:\n",
    "    key, value = el.split(': ')\n",
    "    dict_header[key] = value"
   ]
  },
  {
   "cell_type": "code",
   "execution_count": 11,
   "id": "81bb659d",
   "metadata": {
    "code_folding": [
     2
    ]
   },
   "outputs": [
    {
     "data": {
      "text/plain": [
       "'Load page: 1'"
      ]
     },
     "execution_count": 11,
     "metadata": {},
     "output_type": "execute_result"
    },
    {
     "data": {
      "text/plain": [
       "'Load page: 2'"
      ]
     },
     "execution_count": 11,
     "metadata": {},
     "output_type": "execute_result"
    },
    {
     "data": {
      "text/plain": [
       "'Load page: 3'"
      ]
     },
     "execution_count": 11,
     "metadata": {},
     "output_type": "execute_result"
    },
    {
     "data": {
      "text/plain": [
       "'Load page: 4'"
      ]
     },
     "execution_count": 11,
     "metadata": {},
     "output_type": "execute_result"
    },
    {
     "data": {
      "text/plain": [
       "'Load page: 5'"
      ]
     },
     "execution_count": 11,
     "metadata": {},
     "output_type": "execute_result"
    },
    {
     "data": {
      "text/plain": [
       "'Load page: 6'"
      ]
     },
     "execution_count": 11,
     "metadata": {},
     "output_type": "execute_result"
    },
    {
     "data": {
      "text/plain": [
       "'Load page: 7'"
      ]
     },
     "execution_count": 11,
     "metadata": {},
     "output_type": "execute_result"
    },
    {
     "data": {
      "text/plain": [
       "'Load page: 8'"
      ]
     },
     "execution_count": 11,
     "metadata": {},
     "output_type": "execute_result"
    },
    {
     "data": {
      "text/plain": [
       "'Load page: 9'"
      ]
     },
     "execution_count": 11,
     "metadata": {},
     "output_type": "execute_result"
    },
    {
     "data": {
      "text/plain": [
       "'Load page: 10'"
      ]
     },
     "execution_count": 11,
     "metadata": {},
     "output_type": "execute_result"
    },
    {
     "data": {
      "text/plain": [
       "'Load page: 11'"
      ]
     },
     "execution_count": 11,
     "metadata": {},
     "output_type": "execute_result"
    },
    {
     "data": {
      "text/plain": [
       "'Load page: 12'"
      ]
     },
     "execution_count": 11,
     "metadata": {},
     "output_type": "execute_result"
    },
    {
     "data": {
      "text/plain": [
       "'Load page: 13'"
      ]
     },
     "execution_count": 11,
     "metadata": {},
     "output_type": "execute_result"
    },
    {
     "data": {
      "text/plain": [
       "'Load page: 14'"
      ]
     },
     "execution_count": 11,
     "metadata": {},
     "output_type": "execute_result"
    },
    {
     "data": {
      "text/plain": [
       "'Load page: 15'"
      ]
     },
     "execution_count": 11,
     "metadata": {},
     "output_type": "execute_result"
    },
    {
     "data": {
      "text/plain": [
       "'Load page: 16'"
      ]
     },
     "execution_count": 11,
     "metadata": {},
     "output_type": "execute_result"
    },
    {
     "data": {
      "text/plain": [
       "'Load page: 17'"
      ]
     },
     "execution_count": 11,
     "metadata": {},
     "output_type": "execute_result"
    },
    {
     "data": {
      "text/plain": [
       "'Load page: 18'"
      ]
     },
     "execution_count": 11,
     "metadata": {},
     "output_type": "execute_result"
    },
    {
     "data": {
      "text/plain": [
       "'Load page: 19'"
      ]
     },
     "execution_count": 11,
     "metadata": {},
     "output_type": "execute_result"
    },
    {
     "data": {
      "text/plain": [
       "'Load page: 20'"
      ]
     },
     "execution_count": 11,
     "metadata": {},
     "output_type": "execute_result"
    },
    {
     "data": {
      "text/plain": [
       "'Load page: 21'"
      ]
     },
     "execution_count": 11,
     "metadata": {},
     "output_type": "execute_result"
    },
    {
     "data": {
      "text/plain": [
       "'Load page: 22'"
      ]
     },
     "execution_count": 11,
     "metadata": {},
     "output_type": "execute_result"
    },
    {
     "data": {
      "text/plain": [
       "'Load page: 23'"
      ]
     },
     "execution_count": 11,
     "metadata": {},
     "output_type": "execute_result"
    },
    {
     "data": {
      "text/plain": [
       "'Load page: 24'"
      ]
     },
     "execution_count": 11,
     "metadata": {},
     "output_type": "execute_result"
    },
    {
     "data": {
      "text/plain": [
       "'Load page: 25'"
      ]
     },
     "execution_count": 11,
     "metadata": {},
     "output_type": "execute_result"
    },
    {
     "data": {
      "text/plain": [
       "'Load page: 26'"
      ]
     },
     "execution_count": 11,
     "metadata": {},
     "output_type": "execute_result"
    },
    {
     "data": {
      "text/plain": [
       "'Load page: 27'"
      ]
     },
     "execution_count": 11,
     "metadata": {},
     "output_type": "execute_result"
    },
    {
     "data": {
      "text/plain": [
       "'Load page: 28'"
      ]
     },
     "execution_count": 11,
     "metadata": {},
     "output_type": "execute_result"
    },
    {
     "data": {
      "text/plain": [
       "'Load page: 29'"
      ]
     },
     "execution_count": 11,
     "metadata": {},
     "output_type": "execute_result"
    },
    {
     "data": {
      "text/plain": [
       "'Load page: 30'"
      ]
     },
     "execution_count": 11,
     "metadata": {},
     "output_type": "execute_result"
    },
    {
     "data": {
      "text/plain": [
       "'Load page: 31'"
      ]
     },
     "execution_count": 11,
     "metadata": {},
     "output_type": "execute_result"
    },
    {
     "data": {
      "text/plain": [
       "'Load page: 32'"
      ]
     },
     "execution_count": 11,
     "metadata": {},
     "output_type": "execute_result"
    },
    {
     "data": {
      "text/plain": [
       "'Load page: 33'"
      ]
     },
     "execution_count": 11,
     "metadata": {},
     "output_type": "execute_result"
    },
    {
     "data": {
      "text/plain": [
       "'Load page: 34'"
      ]
     },
     "execution_count": 11,
     "metadata": {},
     "output_type": "execute_result"
    },
    {
     "data": {
      "text/plain": [
       "'Load page: 35'"
      ]
     },
     "execution_count": 11,
     "metadata": {},
     "output_type": "execute_result"
    },
    {
     "data": {
      "text/plain": [
       "'Load page: 36'"
      ]
     },
     "execution_count": 11,
     "metadata": {},
     "output_type": "execute_result"
    },
    {
     "data": {
      "text/plain": [
       "'Load page: 37'"
      ]
     },
     "execution_count": 11,
     "metadata": {},
     "output_type": "execute_result"
    },
    {
     "data": {
      "text/plain": [
       "'Load page: 38'"
      ]
     },
     "execution_count": 11,
     "metadata": {},
     "output_type": "execute_result"
    },
    {
     "data": {
      "text/plain": [
       "'Load page: 39'"
      ]
     },
     "execution_count": 11,
     "metadata": {},
     "output_type": "execute_result"
    },
    {
     "data": {
      "text/plain": [
       "'Load page: 40'"
      ]
     },
     "execution_count": 11,
     "metadata": {},
     "output_type": "execute_result"
    },
    {
     "data": {
      "text/plain": [
       "'Load page: 41'"
      ]
     },
     "execution_count": 11,
     "metadata": {},
     "output_type": "execute_result"
    },
    {
     "data": {
      "text/plain": [
       "'Load page: 42'"
      ]
     },
     "execution_count": 11,
     "metadata": {},
     "output_type": "execute_result"
    },
    {
     "data": {
      "text/plain": [
       "'Load page: 43'"
      ]
     },
     "execution_count": 11,
     "metadata": {},
     "output_type": "execute_result"
    },
    {
     "data": {
      "text/plain": [
       "'Load page: 44'"
      ]
     },
     "execution_count": 11,
     "metadata": {},
     "output_type": "execute_result"
    },
    {
     "data": {
      "text/plain": [
       "'Load page: 45'"
      ]
     },
     "execution_count": 11,
     "metadata": {},
     "output_type": "execute_result"
    },
    {
     "data": {
      "text/plain": [
       "'Load page: 46'"
      ]
     },
     "execution_count": 11,
     "metadata": {},
     "output_type": "execute_result"
    },
    {
     "data": {
      "text/plain": [
       "'Load page: 47'"
      ]
     },
     "execution_count": 11,
     "metadata": {},
     "output_type": "execute_result"
    },
    {
     "data": {
      "text/plain": [
       "'Load page: 48'"
      ]
     },
     "execution_count": 11,
     "metadata": {},
     "output_type": "execute_result"
    },
    {
     "data": {
      "text/plain": [
       "'Load page: 49'"
      ]
     },
     "execution_count": 11,
     "metadata": {},
     "output_type": "execute_result"
    },
    {
     "data": {
      "text/plain": [
       "'Load page: 50'"
      ]
     },
     "execution_count": 11,
     "metadata": {},
     "output_type": "execute_result"
    },
    {
     "data": {
      "text/plain": [
       "'Load page: 51'"
      ]
     },
     "execution_count": 11,
     "metadata": {},
     "output_type": "execute_result"
    },
    {
     "data": {
      "text/plain": [
       "'Load page: 52'"
      ]
     },
     "execution_count": 11,
     "metadata": {},
     "output_type": "execute_result"
    },
    {
     "data": {
      "text/plain": [
       "'Load page: 53'"
      ]
     },
     "execution_count": 11,
     "metadata": {},
     "output_type": "execute_result"
    },
    {
     "data": {
      "text/plain": [
       "'Load page: 54'"
      ]
     },
     "execution_count": 11,
     "metadata": {},
     "output_type": "execute_result"
    },
    {
     "data": {
      "text/plain": [
       "'Load page: 55'"
      ]
     },
     "execution_count": 11,
     "metadata": {},
     "output_type": "execute_result"
    },
    {
     "data": {
      "text/plain": [
       "'Load page: 56'"
      ]
     },
     "execution_count": 11,
     "metadata": {},
     "output_type": "execute_result"
    },
    {
     "data": {
      "text/plain": [
       "'Load page: 57'"
      ]
     },
     "execution_count": 11,
     "metadata": {},
     "output_type": "execute_result"
    },
    {
     "data": {
      "text/plain": [
       "'Load page: 58'"
      ]
     },
     "execution_count": 11,
     "metadata": {},
     "output_type": "execute_result"
    },
    {
     "data": {
      "text/plain": [
       "'Load page: 59'"
      ]
     },
     "execution_count": 11,
     "metadata": {},
     "output_type": "execute_result"
    },
    {
     "data": {
      "text/plain": [
       "'Load page: 60'"
      ]
     },
     "execution_count": 11,
     "metadata": {},
     "output_type": "execute_result"
    },
    {
     "data": {
      "text/plain": [
       "'Load page: 61'"
      ]
     },
     "execution_count": 11,
     "metadata": {},
     "output_type": "execute_result"
    },
    {
     "data": {
      "text/plain": [
       "'Load page: 62'"
      ]
     },
     "execution_count": 11,
     "metadata": {},
     "output_type": "execute_result"
    },
    {
     "data": {
      "text/plain": [
       "'Load page: 63'"
      ]
     },
     "execution_count": 11,
     "metadata": {},
     "output_type": "execute_result"
    },
    {
     "data": {
      "text/plain": [
       "'Load page: 64'"
      ]
     },
     "execution_count": 11,
     "metadata": {},
     "output_type": "execute_result"
    },
    {
     "data": {
      "text/plain": [
       "'Load page: 65'"
      ]
     },
     "execution_count": 11,
     "metadata": {},
     "output_type": "execute_result"
    },
    {
     "data": {
      "text/plain": [
       "'Load page: 66'"
      ]
     },
     "execution_count": 11,
     "metadata": {},
     "output_type": "execute_result"
    },
    {
     "data": {
      "text/plain": [
       "'Load page: 67'"
      ]
     },
     "execution_count": 11,
     "metadata": {},
     "output_type": "execute_result"
    },
    {
     "data": {
      "text/plain": [
       "'Load page: 68'"
      ]
     },
     "execution_count": 11,
     "metadata": {},
     "output_type": "execute_result"
    },
    {
     "data": {
      "text/plain": [
       "'Load page: 69'"
      ]
     },
     "execution_count": 11,
     "metadata": {},
     "output_type": "execute_result"
    },
    {
     "data": {
      "text/plain": [
       "'Load page: 70'"
      ]
     },
     "execution_count": 11,
     "metadata": {},
     "output_type": "execute_result"
    },
    {
     "data": {
      "text/plain": [
       "'Load page: 71'"
      ]
     },
     "execution_count": 11,
     "metadata": {},
     "output_type": "execute_result"
    },
    {
     "data": {
      "text/plain": [
       "'Load page: 72'"
      ]
     },
     "execution_count": 11,
     "metadata": {},
     "output_type": "execute_result"
    },
    {
     "data": {
      "text/plain": [
       "'Load page: 73'"
      ]
     },
     "execution_count": 11,
     "metadata": {},
     "output_type": "execute_result"
    },
    {
     "data": {
      "text/plain": [
       "'Load page: 74'"
      ]
     },
     "execution_count": 11,
     "metadata": {},
     "output_type": "execute_result"
    },
    {
     "data": {
      "text/plain": [
       "'Load page: 75'"
      ]
     },
     "execution_count": 11,
     "metadata": {},
     "output_type": "execute_result"
    },
    {
     "data": {
      "text/plain": [
       "'Load page: 76'"
      ]
     },
     "execution_count": 11,
     "metadata": {},
     "output_type": "execute_result"
    },
    {
     "data": {
      "text/plain": [
       "'Load page: 77'"
      ]
     },
     "execution_count": 11,
     "metadata": {},
     "output_type": "execute_result"
    },
    {
     "data": {
      "text/plain": [
       "'Load page: 78'"
      ]
     },
     "execution_count": 11,
     "metadata": {},
     "output_type": "execute_result"
    },
    {
     "data": {
      "text/plain": [
       "'Load page: 79'"
      ]
     },
     "execution_count": 11,
     "metadata": {},
     "output_type": "execute_result"
    },
    {
     "data": {
      "text/plain": [
       "'Load page: 80'"
      ]
     },
     "execution_count": 11,
     "metadata": {},
     "output_type": "execute_result"
    },
    {
     "data": {
      "text/plain": [
       "'Load page: 81'"
      ]
     },
     "execution_count": 11,
     "metadata": {},
     "output_type": "execute_result"
    },
    {
     "data": {
      "text/plain": [
       "'Load page: 82'"
      ]
     },
     "execution_count": 11,
     "metadata": {},
     "output_type": "execute_result"
    },
    {
     "data": {
      "text/plain": [
       "'Load page: 83'"
      ]
     },
     "execution_count": 11,
     "metadata": {},
     "output_type": "execute_result"
    },
    {
     "data": {
      "text/plain": [
       "'Load page: 84'"
      ]
     },
     "execution_count": 11,
     "metadata": {},
     "output_type": "execute_result"
    },
    {
     "data": {
      "text/plain": [
       "'Load page: 85'"
      ]
     },
     "execution_count": 11,
     "metadata": {},
     "output_type": "execute_result"
    },
    {
     "data": {
      "text/plain": [
       "'Load page: 86'"
      ]
     },
     "execution_count": 11,
     "metadata": {},
     "output_type": "execute_result"
    },
    {
     "data": {
      "text/plain": [
       "'Load page: 87'"
      ]
     },
     "execution_count": 11,
     "metadata": {},
     "output_type": "execute_result"
    },
    {
     "data": {
      "text/plain": [
       "'Load page: 88'"
      ]
     },
     "execution_count": 11,
     "metadata": {},
     "output_type": "execute_result"
    },
    {
     "data": {
      "text/plain": [
       "'Load page: 89'"
      ]
     },
     "execution_count": 11,
     "metadata": {},
     "output_type": "execute_result"
    },
    {
     "data": {
      "text/plain": [
       "'Load page: 90'"
      ]
     },
     "execution_count": 11,
     "metadata": {},
     "output_type": "execute_result"
    },
    {
     "data": {
      "text/plain": [
       "'Load page: 91'"
      ]
     },
     "execution_count": 11,
     "metadata": {},
     "output_type": "execute_result"
    },
    {
     "data": {
      "text/plain": [
       "'Load page: 92'"
      ]
     },
     "execution_count": 11,
     "metadata": {},
     "output_type": "execute_result"
    },
    {
     "data": {
      "text/plain": [
       "'Load page: 93'"
      ]
     },
     "execution_count": 11,
     "metadata": {},
     "output_type": "execute_result"
    },
    {
     "data": {
      "text/plain": [
       "'Load page: 94'"
      ]
     },
     "execution_count": 11,
     "metadata": {},
     "output_type": "execute_result"
    },
    {
     "data": {
      "text/plain": [
       "'Load page: 95'"
      ]
     },
     "execution_count": 11,
     "metadata": {},
     "output_type": "execute_result"
    },
    {
     "data": {
      "text/plain": [
       "'Load page: 96'"
      ]
     },
     "execution_count": 11,
     "metadata": {},
     "output_type": "execute_result"
    },
    {
     "data": {
      "text/plain": [
       "'Load page: 97'"
      ]
     },
     "execution_count": 11,
     "metadata": {},
     "output_type": "execute_result"
    },
    {
     "data": {
      "text/plain": [
       "'Load page: 98'"
      ]
     },
     "execution_count": 11,
     "metadata": {},
     "output_type": "execute_result"
    },
    {
     "data": {
      "text/plain": [
       "'Load page: 99'"
      ]
     },
     "execution_count": 11,
     "metadata": {},
     "output_type": "execute_result"
    }
   ],
   "source": [
    "# Загрузка объявлений с 99-ти страниц\n",
    "offers = []\n",
    "for page in range(1, 100):\n",
    "    params = {\"moto_category\":\"MOTORCYCLE\",\"section\":\"used\",\"category\":\"moto\", \"page\": page}\n",
    "    response = requests.post(url, json=params, headers = dict_header)\n",
    "    data = response.json()\n",
    "    offers.extend(data['offers'])\n",
    "    f'Load page: {data[\"pagination\"][\"page\"]}'\n",
    "    "
   ]
  },
  {
   "cell_type": "code",
   "execution_count": 17,
   "id": "f9f77135",
   "metadata": {},
   "outputs": [
    {
     "name": "stdout",
     "output_type": "stream",
     "text": [
      "Количество объявлений: 3663\n"
     ]
    }
   ],
   "source": [
    "print(f'Количество объявлений: {len(offers)}')"
   ]
  },
  {
   "cell_type": "code",
   "execution_count": 18,
   "id": "f5a163a8",
   "metadata": {
    "code_folding": [
     0
    ]
   },
   "outputs": [],
   "source": [
    "# Сохраняем данные в json формат\n",
    "with open('data/data.json', 'w', encoding='utf-8') as file:\n",
    "    json.dump(offers, file)"
   ]
  },
  {
   "cell_type": "markdown",
   "id": "4e724712",
   "metadata": {},
   "source": [
    "## Отбор признаков и преобразование в DataFrame"
   ]
  },
  {
   "cell_type": "code",
   "execution_count": 19,
   "id": "e5928b55",
   "metadata": {
    "code_folding": [
     0
    ]
   },
   "outputs": [],
   "source": [
    "# Создаем переменнные и сохраняем в них признаки\n",
    "availability = []\n",
    "owners_number = []\n",
    "pts = []\n",
    "custom_cleared = []\n",
    "year = []\n",
    "price = []\n",
    "with_nds = []\n",
    "is_oficial = []\n",
    "city = []\n",
    "parents_ids_len = []\n",
    "mileage = []\n",
    "state_not_beaten = []\n",
    "images_count = []\n",
    "cylinder_amount = []\n",
    "cylinder_order = []\n",
    "displacement = []\n",
    "engine = []\n",
    "gear = []\n",
    "horse_power = []\n",
    "mark = []\n",
    "model_info = []\n",
    "moto_type = []\n",
    "stroke_amount = []\n",
    "transmission = []\n",
    "for offer in offers:\n",
    "    availability.append(offer['availability'])\n",
    "    d = offer['documents']\n",
    "    owners_number.append(d.get('owners_number', np.NAN))\n",
    "    pts.append(d.get('pts', np.NAN))\n",
    "    custom_cleared.append(d.get('custom_cleared', np.NAN))\n",
    "    year.append(d['year'])\n",
    "    price.append(offer['price_info']['price'])\n",
    "    with_nds.append(offer['price_info']['with_nds'])\n",
    "    is_oficial.append(offer['salon']['is_oficial'])\n",
    "    city.append(offer['seller']['location']['region_info']['name'])\n",
    "    parents_ids_len.append(len(offer['seller']['location']['region_info']['parent_ids']))\n",
    "    st = offer['state']\n",
    "    mileage.append(st['mileage'])\n",
    "    state_not_beaten.append(st['state_not_beaten'])\n",
    "    images_count.append(st['images_count'])\n",
    "    v_i = offer['vehicle_info']\n",
    "    cylinder_amount.append(v_i.get('cylinder_amount', np.NAN))\n",
    "    cylinder_order.append(v_i.get('cylinder_order', np.NAN))\n",
    "    displacement.append(v_i['displacement'])\n",
    "    engine.append(v_i.get('engine', np.NAN))\n",
    "    gear.append(v_i.get('gear', 'Not_info'))\n",
    "    horse_power.append(v_i.get('horse_power', np.NAN))\n",
    "    mark.append(v_i['mark_info']['name'])\n",
    "    model_info.append(v_i['model_info']['code'])\n",
    "    moto_type.append(v_i.get('moto_type', np.NAN))\n",
    "    stroke_amount.append(v_i.get('stroke_amount', np.NAN))\n",
    "    transmission.append(v_i.get('transmission', np.NAN))"
   ]
  },
  {
   "cell_type": "code",
   "execution_count": 25,
   "id": "a6fd15fc",
   "metadata": {
    "code_folding": [
     0,
     1,
     6
    ]
   },
   "outputs": [
    {
     "data": {
      "text/html": [
       "<div>\n",
       "<style scoped>\n",
       "    .dataframe tbody tr th:only-of-type {\n",
       "        vertical-align: middle;\n",
       "    }\n",
       "\n",
       "    .dataframe tbody tr th {\n",
       "        vertical-align: top;\n",
       "    }\n",
       "\n",
       "    .dataframe thead th {\n",
       "        text-align: right;\n",
       "    }\n",
       "</style>\n",
       "<table border=\"1\" class=\"dataframe\">\n",
       "  <thead>\n",
       "    <tr style=\"text-align: right;\">\n",
       "      <th></th>\n",
       "      <th>availability</th>\n",
       "      <th>owners_number</th>\n",
       "      <th>pts</th>\n",
       "      <th>custom_cleared</th>\n",
       "      <th>year</th>\n",
       "      <th>price</th>\n",
       "      <th>with_nds</th>\n",
       "      <th>is_oficial</th>\n",
       "      <th>city</th>\n",
       "      <th>parents_ids_len</th>\n",
       "      <th>mileage</th>\n",
       "      <th>state_not_beaten</th>\n",
       "      <th>images_count</th>\n",
       "      <th>cylinder_amount</th>\n",
       "      <th>cylinder_order</th>\n",
       "      <th>displacement</th>\n",
       "      <th>engine</th>\n",
       "      <th>gear</th>\n",
       "      <th>horse_power</th>\n",
       "      <th>mark</th>\n",
       "      <th>model_info</th>\n",
       "      <th>moto_type</th>\n",
       "      <th>stroke_amount</th>\n",
       "      <th>transmission</th>\n",
       "    </tr>\n",
       "  </thead>\n",
       "  <tbody>\n",
       "    <tr>\n",
       "      <th>0</th>\n",
       "      <td>IN_STOCK</td>\n",
       "      <td>1</td>\n",
       "      <td>ORIGINAL</td>\n",
       "      <td>True</td>\n",
       "      <td>2006</td>\n",
       "      <td>598000</td>\n",
       "      <td>False</td>\n",
       "      <td>False</td>\n",
       "      <td>Домодедово</td>\n",
       "      <td>7</td>\n",
       "      <td>24237</td>\n",
       "      <td>True</td>\n",
       "      <td>15</td>\n",
       "      <td>CYLINDERS_2</td>\n",
       "      <td>V_TYPE</td>\n",
       "      <td>1312</td>\n",
       "      <td>CARBURETOR</td>\n",
       "      <td>CARDAN</td>\n",
       "      <td>75.0</td>\n",
       "      <td>Honda</td>\n",
       "      <td>VTX1300</td>\n",
       "      <td>CRUISER</td>\n",
       "      <td>STROKES_4</td>\n",
       "      <td>TRANSMISSION_5</td>\n",
       "    </tr>\n",
       "    <tr>\n",
       "      <th>1</th>\n",
       "      <td>IN_STOCK</td>\n",
       "      <td>1</td>\n",
       "      <td>ORIGINAL</td>\n",
       "      <td>True</td>\n",
       "      <td>2021</td>\n",
       "      <td>2390000</td>\n",
       "      <td>False</td>\n",
       "      <td>False</td>\n",
       "      <td>Копейск</td>\n",
       "      <td>7</td>\n",
       "      <td>3900</td>\n",
       "      <td>True</td>\n",
       "      <td>19</td>\n",
       "      <td>CYLINDERS_4</td>\n",
       "      <td>LINE</td>\n",
       "      <td>1000</td>\n",
       "      <td>INJECTOR</td>\n",
       "      <td>CHAIN</td>\n",
       "      <td>165.0</td>\n",
       "      <td>BMW</td>\n",
       "      <td>S_1000_R</td>\n",
       "      <td>NAKEDBIKE</td>\n",
       "      <td>STROKES_4</td>\n",
       "      <td>TRANSMISSION_6</td>\n",
       "    </tr>\n",
       "    <tr>\n",
       "      <th>2</th>\n",
       "      <td>IN_STOCK</td>\n",
       "      <td>1</td>\n",
       "      <td>ORIGINAL</td>\n",
       "      <td>True</td>\n",
       "      <td>2021</td>\n",
       "      <td>4100000</td>\n",
       "      <td>True</td>\n",
       "      <td>True</td>\n",
       "      <td>Казань</td>\n",
       "      <td>7</td>\n",
       "      <td>5753</td>\n",
       "      <td>True</td>\n",
       "      <td>15</td>\n",
       "      <td>CYLINDERS_2</td>\n",
       "      <td>V_TYPE</td>\n",
       "      <td>1868</td>\n",
       "      <td>INJECTOR</td>\n",
       "      <td>BELT</td>\n",
       "      <td>93.0</td>\n",
       "      <td>Harley-Davidson</td>\n",
       "      <td>ULTRA_LIMITED</td>\n",
       "      <td>CRUISER</td>\n",
       "      <td>STROKES_4</td>\n",
       "      <td>TRANSMISSION_6</td>\n",
       "    </tr>\n",
       "    <tr>\n",
       "      <th>3</th>\n",
       "      <td>IN_STOCK</td>\n",
       "      <td>2</td>\n",
       "      <td>ORIGINAL</td>\n",
       "      <td>True</td>\n",
       "      <td>2021</td>\n",
       "      <td>1500000</td>\n",
       "      <td>False</td>\n",
       "      <td>False</td>\n",
       "      <td>Москва</td>\n",
       "      <td>6</td>\n",
       "      <td>9000</td>\n",
       "      <td>True</td>\n",
       "      <td>12</td>\n",
       "      <td>CYLINDERS_4</td>\n",
       "      <td>LINE</td>\n",
       "      <td>948</td>\n",
       "      <td>INJECTOR</td>\n",
       "      <td>CHAIN</td>\n",
       "      <td>125.0</td>\n",
       "      <td>Kawasaki</td>\n",
       "      <td>Z_900</td>\n",
       "      <td>NAKEDBIKE</td>\n",
       "      <td>STROKES_4</td>\n",
       "      <td>TRANSMISSION_6</td>\n",
       "    </tr>\n",
       "    <tr>\n",
       "      <th>4</th>\n",
       "      <td>IN_STOCK</td>\n",
       "      <td>3</td>\n",
       "      <td>ORIGINAL</td>\n",
       "      <td>True</td>\n",
       "      <td>2019</td>\n",
       "      <td>1748000</td>\n",
       "      <td>False</td>\n",
       "      <td>True</td>\n",
       "      <td>Москва</td>\n",
       "      <td>6</td>\n",
       "      <td>568</td>\n",
       "      <td>True</td>\n",
       "      <td>6</td>\n",
       "      <td>CYLINDERS_2</td>\n",
       "      <td>OPPOSITE</td>\n",
       "      <td>1200</td>\n",
       "      <td>INJECTOR</td>\n",
       "      <td>CARDAN</td>\n",
       "      <td>110.0</td>\n",
       "      <td>BMW</td>\n",
       "      <td>R_NINE_T_PURE</td>\n",
       "      <td>CUSTOM</td>\n",
       "      <td>STROKES_4</td>\n",
       "      <td>TRANSMISSION_6</td>\n",
       "    </tr>\n",
       "  </tbody>\n",
       "</table>\n",
       "</div>"
      ],
      "text/plain": [
       "  availability  owners_number       pts custom_cleared  year    price  \\\n",
       "0     IN_STOCK              1  ORIGINAL           True  2006   598000   \n",
       "1     IN_STOCK              1  ORIGINAL           True  2021  2390000   \n",
       "2     IN_STOCK              1  ORIGINAL           True  2021  4100000   \n",
       "3     IN_STOCK              2  ORIGINAL           True  2021  1500000   \n",
       "4     IN_STOCK              3  ORIGINAL           True  2019  1748000   \n",
       "\n",
       "   with_nds  is_oficial        city  parents_ids_len  mileage  \\\n",
       "0     False       False  Домодедово                7    24237   \n",
       "1     False       False     Копейск                7     3900   \n",
       "2      True        True      Казань                7     5753   \n",
       "3     False       False      Москва                6     9000   \n",
       "4     False        True      Москва                6      568   \n",
       "\n",
       "   state_not_beaten  images_count cylinder_amount cylinder_order  \\\n",
       "0              True            15     CYLINDERS_2         V_TYPE   \n",
       "1              True            19     CYLINDERS_4           LINE   \n",
       "2              True            15     CYLINDERS_2         V_TYPE   \n",
       "3              True            12     CYLINDERS_4           LINE   \n",
       "4              True             6     CYLINDERS_2       OPPOSITE   \n",
       "\n",
       "   displacement      engine    gear  horse_power             mark  \\\n",
       "0          1312  CARBURETOR  CARDAN         75.0            Honda   \n",
       "1          1000    INJECTOR   CHAIN        165.0              BMW   \n",
       "2          1868    INJECTOR    BELT         93.0  Harley-Davidson   \n",
       "3           948    INJECTOR   CHAIN        125.0         Kawasaki   \n",
       "4          1200    INJECTOR  CARDAN        110.0              BMW   \n",
       "\n",
       "      model_info  moto_type stroke_amount    transmission  \n",
       "0        VTX1300    CRUISER     STROKES_4  TRANSMISSION_5  \n",
       "1       S_1000_R  NAKEDBIKE     STROKES_4  TRANSMISSION_6  \n",
       "2  ULTRA_LIMITED    CRUISER     STROKES_4  TRANSMISSION_6  \n",
       "3          Z_900  NAKEDBIKE     STROKES_4  TRANSMISSION_6  \n",
       "4  R_NINE_T_PURE     CUSTOM     STROKES_4  TRANSMISSION_6  "
      ]
     },
     "execution_count": 25,
     "metadata": {},
     "output_type": "execute_result"
    }
   ],
   "source": [
    "# Создаем дата-фрейм\n",
    "columns = ['availability', 'owners_number', 'pts', 'custom_cleared', 'year',\n",
    "       'price', 'with_nds', 'is_oficial', 'city', 'parents_ids_len', 'mileage',\n",
    "       'state_not_beaten', 'images_count', 'cylinder_amount', 'cylinder_order',\n",
    "       'displacement', 'engine', 'gear', 'horse_power', 'mark', 'model_info',\n",
    "       'moto_type', 'stroke_amount', 'transmission']\n",
    "all_data = [availability, owners_number, pts, custom_cleared, year,\n",
    "       price, with_nds, is_oficial, city, parents_ids_len, mileage,\n",
    "       state_not_beaten, images_count, cylinder_amount, cylinder_order,\n",
    "       displacement, engine, gear, horse_power, mark, model_info,\n",
    "       moto_type, stroke_amount, transmission]\n",
    "df = pd.DataFrame(index=range(len(offers)))\n",
    "for i in range(len(columns)):\n",
    "    df[columns[i]] = all_data[i]\n",
    "df.head()"
   ]
  },
  {
   "cell_type": "markdown",
   "id": "fa6703a9",
   "metadata": {},
   "source": [
    "## Изучение данных"
   ]
  },
  {
   "cell_type": "code",
   "execution_count": 31,
   "id": "f7948429",
   "metadata": {
    "code_folding": [
     0
    ]
   },
   "outputs": [
    {
     "data": {
      "text/plain": [
       "availability         object\n",
       "owners_number         int64\n",
       "pts                  object\n",
       "custom_cleared       object\n",
       "year                  int64\n",
       "price                 int64\n",
       "with_nds               bool\n",
       "is_oficial             bool\n",
       "city                 object\n",
       "parents_ids_len       int64\n",
       "mileage               int64\n",
       "state_not_beaten       bool\n",
       "images_count          int64\n",
       "cylinder_amount      object\n",
       "cylinder_order       object\n",
       "displacement          int64\n",
       "engine               object\n",
       "gear                 object\n",
       "horse_power         float64\n",
       "mark                 object\n",
       "model_info           object\n",
       "moto_type            object\n",
       "stroke_amount        object\n",
       "transmission         object\n",
       "dtype: object"
      ]
     },
     "execution_count": 31,
     "metadata": {},
     "output_type": "execute_result"
    }
   ],
   "source": [
    "# Выводим тип переменных\n",
    "df.dtypes"
   ]
  },
  {
   "cell_type": "code",
   "execution_count": 32,
   "id": "fd8a7dc9",
   "metadata": {
    "code_folding": [
     0
    ]
   },
   "outputs": [
    {
     "data": {
      "text/html": [
       "<div>\n",
       "<style scoped>\n",
       "    .dataframe tbody tr th:only-of-type {\n",
       "        vertical-align: middle;\n",
       "    }\n",
       "\n",
       "    .dataframe tbody tr th {\n",
       "        vertical-align: top;\n",
       "    }\n",
       "\n",
       "    .dataframe thead th {\n",
       "        text-align: right;\n",
       "    }\n",
       "</style>\n",
       "<table border=\"1\" class=\"dataframe\">\n",
       "  <thead>\n",
       "    <tr style=\"text-align: right;\">\n",
       "      <th></th>\n",
       "      <th>owners_number</th>\n",
       "      <th>year</th>\n",
       "      <th>price</th>\n",
       "      <th>parents_ids_len</th>\n",
       "      <th>mileage</th>\n",
       "      <th>images_count</th>\n",
       "      <th>displacement</th>\n",
       "      <th>horse_power</th>\n",
       "    </tr>\n",
       "  </thead>\n",
       "  <tbody>\n",
       "    <tr>\n",
       "      <th>count</th>\n",
       "      <td>3663.00000</td>\n",
       "      <td>3663.000000</td>\n",
       "      <td>3.663000e+03</td>\n",
       "      <td>3663.000000</td>\n",
       "      <td>3663.000000</td>\n",
       "      <td>3663.000000</td>\n",
       "      <td>3663.000000</td>\n",
       "      <td>2842.000000</td>\n",
       "    </tr>\n",
       "    <tr>\n",
       "      <th>mean</th>\n",
       "      <td>1.54136</td>\n",
       "      <td>2010.565384</td>\n",
       "      <td>8.671709e+05</td>\n",
       "      <td>6.464100</td>\n",
       "      <td>27371.536719</td>\n",
       "      <td>11.318318</td>\n",
       "      <td>989.155883</td>\n",
       "      <td>91.301900</td>\n",
       "    </tr>\n",
       "    <tr>\n",
       "      <th>std</th>\n",
       "      <td>0.86807</td>\n",
       "      <td>7.786650</td>\n",
       "      <td>7.892982e+05</td>\n",
       "      <td>0.598795</td>\n",
       "      <td>25870.358972</td>\n",
       "      <td>6.913779</td>\n",
       "      <td>2168.092926</td>\n",
       "      <td>44.452637</td>\n",
       "    </tr>\n",
       "    <tr>\n",
       "      <th>min</th>\n",
       "      <td>1.00000</td>\n",
       "      <td>1892.000000</td>\n",
       "      <td>1.100000e+04</td>\n",
       "      <td>5.000000</td>\n",
       "      <td>1.000000</td>\n",
       "      <td>1.000000</td>\n",
       "      <td>1.000000</td>\n",
       "      <td>2.000000</td>\n",
       "    </tr>\n",
       "    <tr>\n",
       "      <th>25%</th>\n",
       "      <td>1.00000</td>\n",
       "      <td>2006.000000</td>\n",
       "      <td>4.200000e+05</td>\n",
       "      <td>6.000000</td>\n",
       "      <td>8000.000000</td>\n",
       "      <td>6.000000</td>\n",
       "      <td>650.000000</td>\n",
       "      <td>55.000000</td>\n",
       "    </tr>\n",
       "    <tr>\n",
       "      <th>50%</th>\n",
       "      <td>1.00000</td>\n",
       "      <td>2012.000000</td>\n",
       "      <td>6.450000e+05</td>\n",
       "      <td>6.000000</td>\n",
       "      <td>21837.000000</td>\n",
       "      <td>10.000000</td>\n",
       "      <td>895.000000</td>\n",
       "      <td>92.000000</td>\n",
       "    </tr>\n",
       "    <tr>\n",
       "      <th>75%</th>\n",
       "      <td>2.00000</td>\n",
       "      <td>2016.000000</td>\n",
       "      <td>9.990000e+05</td>\n",
       "      <td>7.000000</td>\n",
       "      <td>40098.500000</td>\n",
       "      <td>15.000000</td>\n",
       "      <td>1200.000000</td>\n",
       "      <td>120.000000</td>\n",
       "    </tr>\n",
       "    <tr>\n",
       "      <th>max</th>\n",
       "      <td>4.00000</td>\n",
       "      <td>2022.000000</td>\n",
       "      <td>9.500000e+06</td>\n",
       "      <td>9.000000</td>\n",
       "      <td>561219.000000</td>\n",
       "      <td>40.000000</td>\n",
       "      <td>99999.000000</td>\n",
       "      <td>350.000000</td>\n",
       "    </tr>\n",
       "  </tbody>\n",
       "</table>\n",
       "</div>"
      ],
      "text/plain": [
       "       owners_number         year         price  parents_ids_len  \\\n",
       "count     3663.00000  3663.000000  3.663000e+03      3663.000000   \n",
       "mean         1.54136  2010.565384  8.671709e+05         6.464100   \n",
       "std          0.86807     7.786650  7.892982e+05         0.598795   \n",
       "min          1.00000  1892.000000  1.100000e+04         5.000000   \n",
       "25%          1.00000  2006.000000  4.200000e+05         6.000000   \n",
       "50%          1.00000  2012.000000  6.450000e+05         6.000000   \n",
       "75%          2.00000  2016.000000  9.990000e+05         7.000000   \n",
       "max          4.00000  2022.000000  9.500000e+06         9.000000   \n",
       "\n",
       "             mileage  images_count  displacement  horse_power  \n",
       "count    3663.000000   3663.000000   3663.000000  2842.000000  \n",
       "mean    27371.536719     11.318318    989.155883    91.301900  \n",
       "std     25870.358972      6.913779   2168.092926    44.452637  \n",
       "min         1.000000      1.000000      1.000000     2.000000  \n",
       "25%      8000.000000      6.000000    650.000000    55.000000  \n",
       "50%     21837.000000     10.000000    895.000000    92.000000  \n",
       "75%     40098.500000     15.000000   1200.000000   120.000000  \n",
       "max    561219.000000     40.000000  99999.000000   350.000000  "
      ]
     },
     "execution_count": 32,
     "metadata": {},
     "output_type": "execute_result"
    }
   ],
   "source": [
    "# Выводим описательные статистики \n",
    "df.describe()"
   ]
  },
  {
   "cell_type": "code",
   "execution_count": 33,
   "id": "917a49df",
   "metadata": {},
   "outputs": [
    {
     "data": {
      "text/html": [
       "<div>\n",
       "<style scoped>\n",
       "    .dataframe tbody tr th:only-of-type {\n",
       "        vertical-align: middle;\n",
       "    }\n",
       "\n",
       "    .dataframe tbody tr th {\n",
       "        vertical-align: top;\n",
       "    }\n",
       "\n",
       "    .dataframe thead th {\n",
       "        text-align: right;\n",
       "    }\n",
       "</style>\n",
       "<table border=\"1\" class=\"dataframe\">\n",
       "  <thead>\n",
       "    <tr style=\"text-align: right;\">\n",
       "      <th></th>\n",
       "      <th>availability</th>\n",
       "      <th>pts</th>\n",
       "      <th>custom_cleared</th>\n",
       "      <th>city</th>\n",
       "      <th>cylinder_amount</th>\n",
       "      <th>cylinder_order</th>\n",
       "      <th>engine</th>\n",
       "      <th>gear</th>\n",
       "      <th>mark</th>\n",
       "      <th>model_info</th>\n",
       "      <th>moto_type</th>\n",
       "      <th>stroke_amount</th>\n",
       "      <th>transmission</th>\n",
       "    </tr>\n",
       "  </thead>\n",
       "  <tbody>\n",
       "    <tr>\n",
       "      <th>count</th>\n",
       "      <td>3663</td>\n",
       "      <td>3663</td>\n",
       "      <td>3604</td>\n",
       "      <td>3663</td>\n",
       "      <td>2542</td>\n",
       "      <td>2201</td>\n",
       "      <td>3176</td>\n",
       "      <td>3663</td>\n",
       "      <td>3663</td>\n",
       "      <td>3663</td>\n",
       "      <td>3428</td>\n",
       "      <td>2343</td>\n",
       "      <td>2994</td>\n",
       "    </tr>\n",
       "    <tr>\n",
       "      <th>unique</th>\n",
       "      <td>1</td>\n",
       "      <td>2</td>\n",
       "      <td>1</td>\n",
       "      <td>354</td>\n",
       "      <td>6</td>\n",
       "      <td>4</td>\n",
       "      <td>3</td>\n",
       "      <td>4</td>\n",
       "      <td>84</td>\n",
       "      <td>727</td>\n",
       "      <td>22</td>\n",
       "      <td>2</td>\n",
       "      <td>14</td>\n",
       "    </tr>\n",
       "    <tr>\n",
       "      <th>top</th>\n",
       "      <td>IN_STOCK</td>\n",
       "      <td>ORIGINAL</td>\n",
       "      <td>True</td>\n",
       "      <td>Москва</td>\n",
       "      <td>CYLINDERS_2</td>\n",
       "      <td>LINE</td>\n",
       "      <td>INJECTOR</td>\n",
       "      <td>CHAIN</td>\n",
       "      <td>Honda</td>\n",
       "      <td>R_1200_GS</td>\n",
       "      <td>ROAD</td>\n",
       "      <td>STROKES_4</td>\n",
       "      <td>TRANSMISSION_6</td>\n",
       "    </tr>\n",
       "    <tr>\n",
       "      <th>freq</th>\n",
       "      <td>3663</td>\n",
       "      <td>3563</td>\n",
       "      <td>3604</td>\n",
       "      <td>1674</td>\n",
       "      <td>1393</td>\n",
       "      <td>1002</td>\n",
       "      <td>2521</td>\n",
       "      <td>1841</td>\n",
       "      <td>733</td>\n",
       "      <td>59</td>\n",
       "      <td>482</td>\n",
       "      <td>2295</td>\n",
       "      <td>1948</td>\n",
       "    </tr>\n",
       "  </tbody>\n",
       "</table>\n",
       "</div>"
      ],
      "text/plain": [
       "       availability       pts custom_cleared    city cylinder_amount  \\\n",
       "count          3663      3663           3604    3663            2542   \n",
       "unique            1         2              1     354               6   \n",
       "top        IN_STOCK  ORIGINAL           True  Москва     CYLINDERS_2   \n",
       "freq           3663      3563           3604    1674            1393   \n",
       "\n",
       "       cylinder_order    engine   gear   mark model_info moto_type  \\\n",
       "count            2201      3176   3663   3663       3663      3428   \n",
       "unique              4         3      4     84        727        22   \n",
       "top              LINE  INJECTOR  CHAIN  Honda  R_1200_GS      ROAD   \n",
       "freq             1002      2521   1841    733         59       482   \n",
       "\n",
       "       stroke_amount    transmission  \n",
       "count           2343            2994  \n",
       "unique             2              14  \n",
       "top        STROKES_4  TRANSMISSION_6  \n",
       "freq            2295            1948  "
      ]
     },
     "execution_count": 33,
     "metadata": {},
     "output_type": "execute_result"
    }
   ],
   "source": [
    "# Выводим статистики для категориальных признаков\n",
    "df.describe(include=object)"
   ]
  },
  {
   "cell_type": "code",
   "execution_count": 36,
   "id": "f1a5cbfa",
   "metadata": {
    "code_folding": [
     0
    ]
   },
   "outputs": [
    {
     "data": {
      "text/plain": [
       "(IN_STOCK    3663\n",
       " Name: availability, dtype: int64,\n",
       " True    3604\n",
       " NaN       59\n",
       " Name: custom_cleared, dtype: int64)"
      ]
     },
     "execution_count": 36,
     "metadata": {},
     "output_type": "execute_result"
    }
   ],
   "source": [
    "# Видим что есть фичи которые имеют лишь одно значение\n",
    "df.availability.value_counts(dropna=False), df.custom_cleared.value_counts(dropna=False)"
   ]
  },
  {
   "cell_type": "code",
   "execution_count": 37,
   "id": "b1b90afe",
   "metadata": {
    "code_folding": [
     0
    ]
   },
   "outputs": [],
   "source": [
    "# Удалим их\n",
    "df.drop(['availability', 'custom_cleared'], axis=1, inplace=True)"
   ]
  },
  {
   "cell_type": "code",
   "execution_count": 38,
   "id": "4c1b82e9",
   "metadata": {
    "code_folding": [
     0
    ]
   },
   "outputs": [],
   "source": [
    "# Сохраним датафрейм\n",
    "df.to_csv('data/data_all.csv', index=False)"
   ]
  },
  {
   "cell_type": "markdown",
   "id": "12d4b0e6",
   "metadata": {},
   "source": [
    "# Data Preparation"
   ]
  },
  {
   "cell_type": "code",
   "execution_count": 180,
   "id": "781201a6",
   "metadata": {},
   "outputs": [
    {
     "data": {
      "text/html": [
       "<div>\n",
       "<style scoped>\n",
       "    .dataframe tbody tr th:only-of-type {\n",
       "        vertical-align: middle;\n",
       "    }\n",
       "\n",
       "    .dataframe tbody tr th {\n",
       "        vertical-align: top;\n",
       "    }\n",
       "\n",
       "    .dataframe thead th {\n",
       "        text-align: right;\n",
       "    }\n",
       "</style>\n",
       "<table border=\"1\" class=\"dataframe\">\n",
       "  <thead>\n",
       "    <tr style=\"text-align: right;\">\n",
       "      <th></th>\n",
       "      <th>owners_number</th>\n",
       "      <th>pts</th>\n",
       "      <th>year</th>\n",
       "      <th>price</th>\n",
       "      <th>with_nds</th>\n",
       "      <th>is_oficial</th>\n",
       "      <th>city</th>\n",
       "      <th>parents_ids_len</th>\n",
       "      <th>mileage</th>\n",
       "      <th>state_not_beaten</th>\n",
       "      <th>images_count</th>\n",
       "      <th>cylinder_amount</th>\n",
       "      <th>cylinder_order</th>\n",
       "      <th>displacement</th>\n",
       "      <th>engine</th>\n",
       "      <th>gear</th>\n",
       "      <th>horse_power</th>\n",
       "      <th>mark</th>\n",
       "      <th>model_info</th>\n",
       "      <th>moto_type</th>\n",
       "      <th>stroke_amount</th>\n",
       "      <th>transmission</th>\n",
       "    </tr>\n",
       "  </thead>\n",
       "  <tbody>\n",
       "    <tr>\n",
       "      <th>0</th>\n",
       "      <td>1</td>\n",
       "      <td>ORIGINAL</td>\n",
       "      <td>2006</td>\n",
       "      <td>598000</td>\n",
       "      <td>False</td>\n",
       "      <td>False</td>\n",
       "      <td>Домодедово</td>\n",
       "      <td>7</td>\n",
       "      <td>24237</td>\n",
       "      <td>True</td>\n",
       "      <td>15</td>\n",
       "      <td>CYLINDERS_2</td>\n",
       "      <td>V_TYPE</td>\n",
       "      <td>1312</td>\n",
       "      <td>CARBURETOR</td>\n",
       "      <td>CARDAN</td>\n",
       "      <td>75.0</td>\n",
       "      <td>Honda</td>\n",
       "      <td>VTX1300</td>\n",
       "      <td>CRUISER</td>\n",
       "      <td>STROKES_4</td>\n",
       "      <td>TRANSMISSION_5</td>\n",
       "    </tr>\n",
       "    <tr>\n",
       "      <th>1</th>\n",
       "      <td>1</td>\n",
       "      <td>ORIGINAL</td>\n",
       "      <td>2021</td>\n",
       "      <td>2390000</td>\n",
       "      <td>False</td>\n",
       "      <td>False</td>\n",
       "      <td>Копейск</td>\n",
       "      <td>7</td>\n",
       "      <td>3900</td>\n",
       "      <td>True</td>\n",
       "      <td>19</td>\n",
       "      <td>CYLINDERS_4</td>\n",
       "      <td>LINE</td>\n",
       "      <td>1000</td>\n",
       "      <td>INJECTOR</td>\n",
       "      <td>CHAIN</td>\n",
       "      <td>165.0</td>\n",
       "      <td>BMW</td>\n",
       "      <td>S_1000_R</td>\n",
       "      <td>NAKEDBIKE</td>\n",
       "      <td>STROKES_4</td>\n",
       "      <td>TRANSMISSION_6</td>\n",
       "    </tr>\n",
       "    <tr>\n",
       "      <th>2</th>\n",
       "      <td>1</td>\n",
       "      <td>ORIGINAL</td>\n",
       "      <td>2021</td>\n",
       "      <td>4100000</td>\n",
       "      <td>True</td>\n",
       "      <td>True</td>\n",
       "      <td>Казань</td>\n",
       "      <td>7</td>\n",
       "      <td>5753</td>\n",
       "      <td>True</td>\n",
       "      <td>15</td>\n",
       "      <td>CYLINDERS_2</td>\n",
       "      <td>V_TYPE</td>\n",
       "      <td>1868</td>\n",
       "      <td>INJECTOR</td>\n",
       "      <td>BELT</td>\n",
       "      <td>93.0</td>\n",
       "      <td>Harley-Davidson</td>\n",
       "      <td>ULTRA_LIMITED</td>\n",
       "      <td>CRUISER</td>\n",
       "      <td>STROKES_4</td>\n",
       "      <td>TRANSMISSION_6</td>\n",
       "    </tr>\n",
       "    <tr>\n",
       "      <th>3</th>\n",
       "      <td>2</td>\n",
       "      <td>ORIGINAL</td>\n",
       "      <td>2021</td>\n",
       "      <td>1500000</td>\n",
       "      <td>False</td>\n",
       "      <td>False</td>\n",
       "      <td>Москва</td>\n",
       "      <td>6</td>\n",
       "      <td>9000</td>\n",
       "      <td>True</td>\n",
       "      <td>12</td>\n",
       "      <td>CYLINDERS_4</td>\n",
       "      <td>LINE</td>\n",
       "      <td>948</td>\n",
       "      <td>INJECTOR</td>\n",
       "      <td>CHAIN</td>\n",
       "      <td>125.0</td>\n",
       "      <td>Kawasaki</td>\n",
       "      <td>Z_900</td>\n",
       "      <td>NAKEDBIKE</td>\n",
       "      <td>STROKES_4</td>\n",
       "      <td>TRANSMISSION_6</td>\n",
       "    </tr>\n",
       "    <tr>\n",
       "      <th>4</th>\n",
       "      <td>3</td>\n",
       "      <td>ORIGINAL</td>\n",
       "      <td>2019</td>\n",
       "      <td>1748000</td>\n",
       "      <td>False</td>\n",
       "      <td>True</td>\n",
       "      <td>Москва</td>\n",
       "      <td>6</td>\n",
       "      <td>568</td>\n",
       "      <td>True</td>\n",
       "      <td>6</td>\n",
       "      <td>CYLINDERS_2</td>\n",
       "      <td>OPPOSITE</td>\n",
       "      <td>1200</td>\n",
       "      <td>INJECTOR</td>\n",
       "      <td>CARDAN</td>\n",
       "      <td>110.0</td>\n",
       "      <td>BMW</td>\n",
       "      <td>R_NINE_T_PURE</td>\n",
       "      <td>CUSTOM</td>\n",
       "      <td>STROKES_4</td>\n",
       "      <td>TRANSMISSION_6</td>\n",
       "    </tr>\n",
       "  </tbody>\n",
       "</table>\n",
       "</div>"
      ],
      "text/plain": [
       "   owners_number       pts  year    price  with_nds  is_oficial        city  \\\n",
       "0              1  ORIGINAL  2006   598000     False       False  Домодедово   \n",
       "1              1  ORIGINAL  2021  2390000     False       False     Копейск   \n",
       "2              1  ORIGINAL  2021  4100000      True        True      Казань   \n",
       "3              2  ORIGINAL  2021  1500000     False       False      Москва   \n",
       "4              3  ORIGINAL  2019  1748000     False        True      Москва   \n",
       "\n",
       "   parents_ids_len  mileage  state_not_beaten  images_count cylinder_amount  \\\n",
       "0                7    24237              True            15     CYLINDERS_2   \n",
       "1                7     3900              True            19     CYLINDERS_4   \n",
       "2                7     5753              True            15     CYLINDERS_2   \n",
       "3                6     9000              True            12     CYLINDERS_4   \n",
       "4                6      568              True             6     CYLINDERS_2   \n",
       "\n",
       "  cylinder_order  displacement      engine    gear  horse_power  \\\n",
       "0         V_TYPE          1312  CARBURETOR  CARDAN         75.0   \n",
       "1           LINE          1000    INJECTOR   CHAIN        165.0   \n",
       "2         V_TYPE          1868    INJECTOR    BELT         93.0   \n",
       "3           LINE           948    INJECTOR   CHAIN        125.0   \n",
       "4       OPPOSITE          1200    INJECTOR  CARDAN        110.0   \n",
       "\n",
       "              mark     model_info  moto_type stroke_amount    transmission  \n",
       "0            Honda        VTX1300    CRUISER     STROKES_4  TRANSMISSION_5  \n",
       "1              BMW       S_1000_R  NAKEDBIKE     STROKES_4  TRANSMISSION_6  \n",
       "2  Harley-Davidson  ULTRA_LIMITED    CRUISER     STROKES_4  TRANSMISSION_6  \n",
       "3         Kawasaki          Z_900  NAKEDBIKE     STROKES_4  TRANSMISSION_6  \n",
       "4              BMW  R_NINE_T_PURE     CUSTOM     STROKES_4  TRANSMISSION_6  "
      ]
     },
     "execution_count": 180,
     "metadata": {},
     "output_type": "execute_result"
    }
   ],
   "source": [
    "df = pd.read_csv('data/data_all.csv')\n",
    "df.head()"
   ]
  },
  {
   "cell_type": "markdown",
   "id": "2c269f8e",
   "metadata": {},
   "source": [
    "## Заполнение пропусков в данных"
   ]
  },
  {
   "cell_type": "code",
   "execution_count": 181,
   "id": "be06fa2b",
   "metadata": {
    "code_folding": [
     0
    ]
   },
   "outputs": [
    {
     "data": {
      "text/plain": [
       "owners_number          0\n",
       "pts                    0\n",
       "year                   0\n",
       "price                  0\n",
       "with_nds               0\n",
       "is_oficial             0\n",
       "city                   0\n",
       "parents_ids_len        0\n",
       "mileage                0\n",
       "state_not_beaten       0\n",
       "images_count           0\n",
       "cylinder_amount     1121\n",
       "cylinder_order      1462\n",
       "displacement           0\n",
       "engine               487\n",
       "gear                   0\n",
       "horse_power          821\n",
       "mark                   0\n",
       "model_info             0\n",
       "moto_type            235\n",
       "stroke_amount       1320\n",
       "transmission         669\n",
       "dtype: int64"
      ]
     },
     "execution_count": 181,
     "metadata": {},
     "output_type": "execute_result"
    }
   ],
   "source": [
    "# Смотрим количество пропусков\n",
    "df.isnull().sum()"
   ]
  },
  {
   "cell_type": "code",
   "execution_count": 182,
   "id": "6d39167c",
   "metadata": {
    "code_folding": [
     0
    ]
   },
   "outputs": [],
   "source": [
    "miss_col = ['cylinder_amount', 'cylinder_order', 'engine', 'horse_power',\n",
    "            'moto_type', 'stroke_amount', 'transmission']"
   ]
  },
  {
   "cell_type": "code",
   "execution_count": 183,
   "id": "c89a6bf4",
   "metadata": {},
   "outputs": [
    {
     "data": {
      "text/plain": [
       "727"
      ]
     },
     "execution_count": 183,
     "metadata": {},
     "output_type": "execute_result"
    }
   ],
   "source": [
    "df.model_info.nunique()"
   ]
  },
  {
   "cell_type": "code",
   "execution_count": 184,
   "id": "2976c1c2",
   "metadata": {
    "code_folding": [
     6
    ]
   },
   "outputs": [
    {
     "data": {
      "text/plain": [
       "'Т.к все пропуски находятся в переменных которые характеризуют двигатель мотоцикла,\\nможно предположить если модели мотоцикла одинаковые, то характеристики двигателя должны совпадать'"
      ]
     },
     "execution_count": 184,
     "metadata": {},
     "output_type": "execute_result"
    },
    {
     "name": "stderr",
     "output_type": "stream",
     "text": [
      "C:\\Users\\Artem\\AppData\\Local\\Temp/ipykernel_6280/1673444382.py:20: SettingWithCopyWarning: \n",
      "A value is trying to be set on a copy of a slice from a DataFrame\n",
      "\n",
      "See the caveats in the documentation: https://pandas.pydata.org/pandas-docs/stable/user_guide/indexing.html#returning-a-view-versus-a-copy\n",
      "  df[c][(df.model_info == model) & (df[c].isna())] = value\n"
     ]
    }
   ],
   "source": [
    "'''Т.к все пропуски находятся в переменных которые характеризуют двигатель мотоцикла,\n",
    "можно предположить если модели мотоцикла одинаковые, то характеристики двигателя должны совпадать'''\n",
    "\n",
    "# Модели которые встречаются минимум 2 раза в датасете\n",
    "model_names = df.model_info.value_counts()[df.model_info.value_counts() > 1].index\n",
    "# Проходимся по всем фичам\n",
    "for c in miss_col:\n",
    "    # Проходимся по всем моделям и находим для каждой модели значение которым заменяем пропуски\n",
    "    for model in model_names:\n",
    "        # Оборачиваем все в try-except, \n",
    "        # потому что может случиться так что для определенной модели все значения будут nan\n",
    "        # и возникнет ошибка\n",
    "        try:\n",
    "            # В качестве значения для horse_power берем медиану, для всех остальных моду\n",
    "            if c == 'horse_power':\n",
    "                value = df[df.model_info == model][c].median()\n",
    "            else:\n",
    "                value = df[df.model_info == model][c].mode()[0]\n",
    "\n",
    "            df[c][(df.model_info == model) & (df[c].isna())] = value\n",
    "        except:\n",
    "            pass\n",
    "  "
   ]
  },
  {
   "cell_type": "code",
   "execution_count": 185,
   "id": "d668f0b1",
   "metadata": {},
   "outputs": [
    {
     "data": {
      "text/plain": [
       "owners_number         0\n",
       "pts                   0\n",
       "year                  0\n",
       "price                 0\n",
       "with_nds              0\n",
       "is_oficial            0\n",
       "city                  0\n",
       "parents_ids_len       0\n",
       "mileage               0\n",
       "state_not_beaten      0\n",
       "images_count          0\n",
       "cylinder_amount     104\n",
       "cylinder_order      222\n",
       "displacement          0\n",
       "engine               44\n",
       "gear                  0\n",
       "horse_power          87\n",
       "mark                  0\n",
       "model_info            0\n",
       "moto_type            19\n",
       "stroke_amount       126\n",
       "transmission         81\n",
       "dtype: int64"
      ]
     },
     "execution_count": 185,
     "metadata": {},
     "output_type": "execute_result"
    }
   ],
   "source": [
    "# Смотрим что пропусков стало меньше\n",
    "df.isnull().sum()"
   ]
  },
  {
   "cell_type": "code",
   "execution_count": 186,
   "id": "75afe0a4",
   "metadata": {},
   "outputs": [
    {
     "data": {
      "text/plain": [
       "(3663, 3353)"
      ]
     },
     "execution_count": 186,
     "metadata": {},
     "output_type": "execute_result"
    }
   ],
   "source": [
    "len(df), len(df.dropna())  "
   ]
  },
  {
   "cell_type": "code",
   "execution_count": 188,
   "id": "69e5d8bb",
   "metadata": {},
   "outputs": [
    {
     "data": {
      "text/plain": [
       "(3353, 22)"
      ]
     },
     "execution_count": 188,
     "metadata": {},
     "output_type": "execute_result"
    }
   ],
   "source": [
    "# Удалим строки с пропусками\n",
    "df_prep = df.dropna()\n",
    "df_prep.shape"
   ]
  },
  {
   "cell_type": "markdown",
   "id": "61b9bb19",
   "metadata": {},
   "source": [
    "## Работа с выбросами"
   ]
  },
  {
   "cell_type": "code",
   "execution_count": 358,
   "id": "220b25aa",
   "metadata": {},
   "outputs": [
    {
     "data": {
      "text/plain": [
       "['year', 'price', 'mileage', 'displacement', 'horse_power']"
      ]
     },
     "execution_count": 358,
     "metadata": {},
     "output_type": "execute_result"
    }
   ],
   "source": [
    "# Фичи у которых могут быть выбросы\n",
    "numerical_col = ['year', 'price', 'mileage', 'displacement', 'horse_power']\n",
    "numerical_col"
   ]
  },
  {
   "cell_type": "code",
   "execution_count": 190,
   "id": "48b59ce5",
   "metadata": {},
   "outputs": [
    {
     "data": {
      "text/plain": [
       "<AxesSubplot:title={'center':'Boxplot year'}>"
      ]
     },
     "execution_count": 190,
     "metadata": {},
     "output_type": "execute_result"
    },
    {
     "data": {
      "image/png": "[encoded data removed]",
      "text/plain": [
       "<Figure size 432x288 with 1 Axes>"
      ]
     },
     "metadata": {
      "needs_background": "light"
     },
     "output_type": "display_data"
    },
    {
     "data": {
      "text/plain": [
       "<AxesSubplot:title={'center':'Boxplot price'}>"
      ]
     },
     "execution_count": 190,
     "metadata": {},
     "output_type": "execute_result"
    },
    {
     "data": {
      "image/png": "[encoded data removed]",
      "text/plain": [
       "<Figure size 432x288 with 1 Axes>"
      ]
     },
     "metadata": {
      "needs_background": "light"
     },
     "output_type": "display_data"
    },
    {
     "data": {
      "text/plain": [
       "<AxesSubplot:title={'center':'Boxplot mileage'}>"
      ]
     },
     "execution_count": 190,
     "metadata": {},
     "output_type": "execute_result"
    },
    {
     "data": {
      "image/png": "[encoded data removed]",
      "text/plain": [
       "<Figure size 432x288 with 1 Axes>"
      ]
     },
     "metadata": {
      "needs_background": "light"
     },
     "output_type": "display_data"
    },
    {
     "data": {
      "text/plain": [
       "<AxesSubplot:title={'center':'Boxplot displacement'}>"
      ]
     },
     "execution_count": 190,
     "metadata": {},
     "output_type": "execute_result"
    },
    {
     "data": {
      "image/png": "[encoded data removed]",
      "text/plain": [
       "<Figure size 432x288 with 1 Axes>"
      ]
     },
     "metadata": {
      "needs_background": "light"
     },
     "output_type": "display_data"
    },
    {
     "data": {
      "text/plain": [
       "<AxesSubplot:title={'center':'Boxplot horse_power'}>"
      ]
     },
     "execution_count": 190,
     "metadata": {},
     "output_type": "execute_result"
    },
    {
     "data": {
      "image/png": "[encoded data removed]",
      "text/plain": [
       "<Figure size 432x288 with 1 Axes>"
      ]
     },
     "metadata": {
      "needs_background": "light"
     },
     "output_type": "display_data"
    }
   ],
   "source": [
    "# Смотрим на график боксплот\n",
    "for c in numerical_col:\n",
    "    df_prep[c].plot(kind='box', title=f'Boxplot {c}')\n",
    "    plt.show();"
   ]
  },
  {
   "cell_type": "code",
   "execution_count": 191,
   "id": "cd85e9cf",
   "metadata": {
    "code_folding": [
     0
    ]
   },
   "outputs": [
    {
     "name": "stderr",
     "output_type": "stream",
     "text": [
      "C:\\Users\\Artem\\AppData\\Local\\Temp/ipykernel_6280/2287736494.py:12: SettingWithCopyWarning: \n",
      "A value is trying to be set on a copy of a slice from a DataFrame\n",
      "\n",
      "See the caveats in the documentation: https://pandas.pydata.org/pandas-docs/stable/user_guide/indexing.html#returning-a-view-versus-a-copy\n",
      "  df_prep_vbr[c][df_prep_vbr[c] < bounds[0]] = bounds[0]\n",
      "C:\\Users\\Artem\\AppData\\Local\\Temp/ipykernel_6280/2287736494.py:13: SettingWithCopyWarning: \n",
      "A value is trying to be set on a copy of a slice from a DataFrame\n",
      "\n",
      "See the caveats in the documentation: https://pandas.pydata.org/pandas-docs/stable/user_guide/indexing.html#returning-a-view-versus-a-copy\n",
      "  df_prep_vbr[c][df_prep_vbr[c] > bounds[1]] = bounds[1]\n",
      "C:\\Users\\Artem\\AppData\\Local\\Temp/ipykernel_6280/2287736494.py:12: SettingWithCopyWarning: \n",
      "A value is trying to be set on a copy of a slice from a DataFrame\n",
      "\n",
      "See the caveats in the documentation: https://pandas.pydata.org/pandas-docs/stable/user_guide/indexing.html#returning-a-view-versus-a-copy\n",
      "  df_prep_vbr[c][df_prep_vbr[c] < bounds[0]] = bounds[0]\n",
      "C:\\Users\\Artem\\AppData\\Local\\Temp/ipykernel_6280/2287736494.py:13: SettingWithCopyWarning: \n",
      "A value is trying to be set on a copy of a slice from a DataFrame\n",
      "\n",
      "See the caveats in the documentation: https://pandas.pydata.org/pandas-docs/stable/user_guide/indexing.html#returning-a-view-versus-a-copy\n",
      "  df_prep_vbr[c][df_prep_vbr[c] > bounds[1]] = bounds[1]\n"
     ]
    }
   ],
   "source": [
    "# Есть два варианта, что делать с выбросами: \n",
    "# Удалить строки с выбросами(Данных и так мало), либо заменить их граничными значениями\n",
    "# Сделаю оба варианта и сравню качество предсказаний\n",
    "bounds_all = []\n",
    "df_prep_vbr = df_prep.copy()\n",
    "for c in numerical_col:\n",
    "    q75 = df_prep[c].quantile(0.75)\n",
    "    q25 =  df_prep[c].quantile(0.25)\n",
    "    intr = q75 - q25\n",
    "    bounds = (q25 - intr * 1.5), (q75 + intr * 1.5)\n",
    "    bounds_all.append(bounds)\n",
    "    df_prep_vbr[c][df_prep_vbr[c] < bounds[0]] = bounds[0]\n",
    "    df_prep_vbr[c][df_prep_vbr[c] > bounds[1]] = bounds[1]\n",
    "    df_prep = df_prep[(df_prep[c] >= bounds[0]) & (df_prep[c] <= bounds[1])]"
   ]
  },
  {
   "cell_type": "code",
   "execution_count": 193,
   "id": "9dea5911",
   "metadata": {
    "code_folding": [
     0
    ]
   },
   "outputs": [
    {
     "name": "stdout",
     "output_type": "stream",
     "text": [
      "year df_prep_vbr: 0\n",
      "year df_prep: 0\n",
      "price df_prep_vbr: 0\n",
      "price df_prep: 0\n",
      "mileage df_prep_vbr: 0\n",
      "mileage df_prep: 0\n",
      "displacement df_prep_vbr: 0\n",
      "displacement df_prep: 0\n",
      "horse_power df_prep_vbr: 0\n",
      "horse_power df_prep: 0\n"
     ]
    }
   ],
   "source": [
    "for c in range(len(bounds_all)):\n",
    "    print(f'{numerical_col[c]} df_prep_vbr: {len(df_prep_vbr[(df_prep_vbr[numerical_col[c]] < bounds_all[c][0]) | (df_prep_vbr[numerical_col[c]] > bounds_all[c][1])])}')\n",
    "    print(f'{numerical_col[c]} df_prep: {len(df_prep[(df_prep[numerical_col[c]] < bounds_all[c][0]) | (df_prep[numerical_col[c]] > bounds_all[c][1])])}')"
   ]
  },
  {
   "cell_type": "code",
   "execution_count": 195,
   "id": "c88b72d6",
   "metadata": {},
   "outputs": [
    {
     "data": {
      "text/plain": [
       "(1    1905\n",
       " 2     512\n",
       " 3     360\n",
       " 4     153\n",
       " Name: owners_number, dtype: int64,\n",
       " 6    1761\n",
       " 7    1017\n",
       " 8     135\n",
       " 5       9\n",
       " 9       8\n",
       " Name: parents_ids_len, dtype: int64,\n",
       " 11    351\n",
       " 6     232\n",
       " 5     220\n",
       " 8     215\n",
       " 7     198\n",
       "      ... \n",
       " 39      3\n",
       " 37      3\n",
       " 34      3\n",
       " 38      3\n",
       " 35      1\n",
       " Name: images_count, Length: 40, dtype: int64)"
      ]
     },
     "execution_count": 195,
     "metadata": {},
     "output_type": "execute_result"
    }
   ],
   "source": [
    "# Проверяем остальные чиловые признаки\n",
    "df_prep.owners_number.value_counts(), df_prep.parents_ids_len.value_counts(),df_prep.images_count.value_counts()"
   ]
  },
  {
   "cell_type": "code",
   "execution_count": 196,
   "id": "f78cb81d",
   "metadata": {},
   "outputs": [
    {
     "name": "stderr",
     "output_type": "stream",
     "text": [
      "C:\\Users\\Artem\\AppData\\Local\\Temp/ipykernel_6280/1563837761.py:6: SettingWithCopyWarning: \n",
      "A value is trying to be set on a copy of a slice from a DataFrame\n",
      "\n",
      "See the caveats in the documentation: https://pandas.pydata.org/pandas-docs/stable/user_guide/indexing.html#returning-a-view-versus-a-copy\n",
      "  df_prep_vbr.images_count[df_prep_vbr.images_count < bounds[0]] = bounds[0]\n",
      "C:\\Users\\Artem\\AppData\\Local\\Temp/ipykernel_6280/1563837761.py:7: SettingWithCopyWarning: \n",
      "A value is trying to be set on a copy of a slice from a DataFrame\n",
      "\n",
      "See the caveats in the documentation: https://pandas.pydata.org/pandas-docs/stable/user_guide/indexing.html#returning-a-view-versus-a-copy\n",
      "  df_prep_vbr.images_count[df_prep_vbr.images_count > bounds[1]] = bounds[1]\n",
      "C:\\Users\\Artem\\AppData\\Local\\Temp/ipykernel_6280/1563837761.py:9: SettingWithCopyWarning: \n",
      "A value is trying to be set on a copy of a slice from a DataFrame\n",
      "\n",
      "See the caveats in the documentation: https://pandas.pydata.org/pandas-docs/stable/user_guide/indexing.html#returning-a-view-versus-a-copy\n",
      "  df_prep.images_count[df_prep.images_count > bounds[1]] = bounds[1]\n"
     ]
    }
   ],
   "source": [
    "# Заменяем выбросы у images_count\n",
    "q75 = df_prep.images_count.quantile(0.75)\n",
    "q25 =  df_prep.images_count.quantile(0.25)\n",
    "intr = q75 - q25\n",
    "bounds = (q25 - intr * 1.5), (q75 + intr * 1.5)\n",
    "df_prep_vbr.images_count[df_prep_vbr.images_count < bounds[0]] = bounds[0]\n",
    "df_prep_vbr.images_count[df_prep_vbr.images_count > bounds[1]] = bounds[1]\n",
    "df_prep.images_count[df_prep.images_count < bounds[0]] = bounds[0]\n",
    "df_prep.images_count[df_prep.images_count > bounds[1]] = bounds[1]"
   ]
  },
  {
   "cell_type": "code",
   "execution_count": 197,
   "id": "900d8aa4",
   "metadata": {
    "code_folding": [
     0
    ]
   },
   "outputs": [
    {
     "data": {
      "text/plain": [
       "11.0    351\n",
       "6.0     232\n",
       "5.0     220\n",
       "8.0     215\n",
       "7.0     198\n",
       "10.0    183\n",
       "9.0     146\n",
       "4.0     145\n",
       "13.0    125\n",
       "3.0      97\n",
       "28.5     96\n",
       "12.0     96\n",
       "20.0     96\n",
       "14.0     87\n",
       "18.0     81\n",
       "15.0     74\n",
       "16.0     69\n",
       "19.0     66\n",
       "17.0     64\n",
       "1.0      47\n",
       "21.0     44\n",
       "2.0      41\n",
       "22.0     29\n",
       "25.0     27\n",
       "23.0     26\n",
       "28.0     21\n",
       "27.0     18\n",
       "24.0     18\n",
       "26.0     18\n",
       "Name: images_count, dtype: int64"
      ]
     },
     "execution_count": 197,
     "metadata": {},
     "output_type": "execute_result"
    }
   ],
   "source": [
    "# Убедимся что все отработало правильно\n",
    "df_prep.images_count.value_counts()"
   ]
  },
  {
   "cell_type": "markdown",
   "id": "5c2fff34",
   "metadata": {},
   "source": [
    "## Проверяем дубликаты в данных"
   ]
  },
  {
   "cell_type": "code",
   "execution_count": 200,
   "id": "facdbb89",
   "metadata": {},
   "outputs": [
    {
     "data": {
      "text/plain": [
       "(16, 19)"
      ]
     },
     "execution_count": 200,
     "metadata": {},
     "output_type": "execute_result"
    }
   ],
   "source": [
    "sum(df_prep.duplicated()), sum(df_prep_vbr.duplicated())"
   ]
  },
  {
   "cell_type": "code",
   "execution_count": 201,
   "id": "e9044c1b",
   "metadata": {},
   "outputs": [
    {
     "data": {
      "text/plain": [
       "((2914, 22), (3334, 22))"
      ]
     },
     "execution_count": 201,
     "metadata": {},
     "output_type": "execute_result"
    }
   ],
   "source": [
    "df_prep.drop_duplicates(inplace=True)\n",
    "df_prep_vbr.drop_duplicates(inplace=True)\n",
    "df_prep.shape, df_prep_vbr.shape"
   ]
  },
  {
   "cell_type": "code",
   "execution_count": 202,
   "id": "c69fb27b",
   "metadata": {},
   "outputs": [
    {
     "data": {
      "text/plain": [
       "(0, 0)"
      ]
     },
     "execution_count": 202,
     "metadata": {},
     "output_type": "execute_result"
    }
   ],
   "source": [
    "sum(df_prep.duplicated()), sum(df_prep_vbr.duplicated())"
   ]
  },
  {
   "cell_type": "code",
   "execution_count": 203,
   "id": "fadc074c",
   "metadata": {
    "code_folding": [
     0
    ]
   },
   "outputs": [],
   "source": [
    "# Сохраняем датафреймы\n",
    "df_prep.to_csv('data/df_prep.csv', index=False)\n",
    "df_prep_vbr.to_csv('data/df_prep_vbr.csv', index=False)"
   ]
  },
  {
   "cell_type": "markdown",
   "id": "6f668678",
   "metadata": {},
   "source": [
    "# Modeling"
   ]
  },
  {
   "cell_type": "code",
   "execution_count": 504,
   "id": "1022f5c4",
   "metadata": {},
   "outputs": [
    {
     "data": {
      "text/plain": [
       "((2914, 22), (3334, 22))"
      ]
     },
     "execution_count": 504,
     "metadata": {},
     "output_type": "execute_result"
    }
   ],
   "source": [
    "df_prep = pd.read_csv('data/df_prep.csv')\n",
    "df_prep_vbr = pd.read_csv('data/df_prep_vbr.csv')\n",
    "df_prep.shape, df_prep_vbr.shape"
   ]
  },
  {
   "cell_type": "markdown",
   "id": "105de448",
   "metadata": {},
   "source": [
    "## Построение первой модели и выбор датасета "
   ]
  },
  {
   "cell_type": "code",
   "execution_count": 505,
   "id": "55751921",
   "metadata": {
    "code_folding": [
     0
    ]
   },
   "outputs": [
    {
     "data": {
      "image/png": "[encoded data removed]",
      "text/plain": [
       "<Figure size 432x288 with 2 Axes>"
      ]
     },
     "metadata": {
      "needs_background": "light"
     },
     "output_type": "display_data"
    }
   ],
   "source": [
    "# Смотрим корреляцию\n",
    "sns.heatmap(df_prep.corr());"
   ]
  },
  {
   "cell_type": "code",
   "execution_count": 506,
   "id": "aa4595cf",
   "metadata": {
    "code_folding": [
     0
    ]
   },
   "outputs": [],
   "source": [
    "# Удалим признак state_not_beaten, т.к он имеют одно значение\n",
    "df_prep.drop('state_not_beaten', axis=1, inplace=True)\n",
    "df_prep_vbr.drop('state_not_beaten', axis=1, inplace=True)"
   ]
  },
  {
   "cell_type": "code",
   "execution_count": 507,
   "id": "5a2e3112",
   "metadata": {
    "code_folding": [
     0
    ]
   },
   "outputs": [
    {
     "data": {
      "text/html": [
       "<div>\n",
       "<style scoped>\n",
       "    .dataframe tbody tr th:only-of-type {\n",
       "        vertical-align: middle;\n",
       "    }\n",
       "\n",
       "    .dataframe tbody tr th {\n",
       "        vertical-align: top;\n",
       "    }\n",
       "\n",
       "    .dataframe thead th {\n",
       "        text-align: right;\n",
       "    }\n",
       "</style>\n",
       "<table border=\"1\" class=\"dataframe\">\n",
       "  <thead>\n",
       "    <tr style=\"text-align: right;\">\n",
       "      <th></th>\n",
       "      <th>owners_number</th>\n",
       "      <th>year</th>\n",
       "      <th>price</th>\n",
       "      <th>with_nds</th>\n",
       "      <th>is_oficial</th>\n",
       "      <th>parents_ids_len</th>\n",
       "      <th>mileage</th>\n",
       "      <th>images_count</th>\n",
       "      <th>displacement</th>\n",
       "      <th>horse_power</th>\n",
       "    </tr>\n",
       "  </thead>\n",
       "  <tbody>\n",
       "    <tr>\n",
       "      <th>owners_number</th>\n",
       "      <td>1.0</td>\n",
       "      <td>NaN</td>\n",
       "      <td>NaN</td>\n",
       "      <td>NaN</td>\n",
       "      <td>NaN</td>\n",
       "      <td>NaN</td>\n",
       "      <td>NaN</td>\n",
       "      <td>NaN</td>\n",
       "      <td>NaN</td>\n",
       "      <td>NaN</td>\n",
       "    </tr>\n",
       "    <tr>\n",
       "      <th>year</th>\n",
       "      <td>NaN</td>\n",
       "      <td>1.000000</td>\n",
       "      <td>0.573799</td>\n",
       "      <td>NaN</td>\n",
       "      <td>NaN</td>\n",
       "      <td>NaN</td>\n",
       "      <td>NaN</td>\n",
       "      <td>NaN</td>\n",
       "      <td>NaN</td>\n",
       "      <td>NaN</td>\n",
       "    </tr>\n",
       "    <tr>\n",
       "      <th>price</th>\n",
       "      <td>NaN</td>\n",
       "      <td>0.573799</td>\n",
       "      <td>1.000000</td>\n",
       "      <td>NaN</td>\n",
       "      <td>NaN</td>\n",
       "      <td>NaN</td>\n",
       "      <td>NaN</td>\n",
       "      <td>NaN</td>\n",
       "      <td>0.587763</td>\n",
       "      <td>NaN</td>\n",
       "    </tr>\n",
       "    <tr>\n",
       "      <th>with_nds</th>\n",
       "      <td>NaN</td>\n",
       "      <td>NaN</td>\n",
       "      <td>NaN</td>\n",
       "      <td>1.0</td>\n",
       "      <td>NaN</td>\n",
       "      <td>NaN</td>\n",
       "      <td>NaN</td>\n",
       "      <td>NaN</td>\n",
       "      <td>NaN</td>\n",
       "      <td>NaN</td>\n",
       "    </tr>\n",
       "    <tr>\n",
       "      <th>is_oficial</th>\n",
       "      <td>NaN</td>\n",
       "      <td>NaN</td>\n",
       "      <td>NaN</td>\n",
       "      <td>NaN</td>\n",
       "      <td>1.0</td>\n",
       "      <td>NaN</td>\n",
       "      <td>NaN</td>\n",
       "      <td>NaN</td>\n",
       "      <td>NaN</td>\n",
       "      <td>NaN</td>\n",
       "    </tr>\n",
       "    <tr>\n",
       "      <th>parents_ids_len</th>\n",
       "      <td>NaN</td>\n",
       "      <td>NaN</td>\n",
       "      <td>NaN</td>\n",
       "      <td>NaN</td>\n",
       "      <td>NaN</td>\n",
       "      <td>1.0</td>\n",
       "      <td>NaN</td>\n",
       "      <td>NaN</td>\n",
       "      <td>NaN</td>\n",
       "      <td>NaN</td>\n",
       "    </tr>\n",
       "    <tr>\n",
       "      <th>mileage</th>\n",
       "      <td>NaN</td>\n",
       "      <td>NaN</td>\n",
       "      <td>NaN</td>\n",
       "      <td>NaN</td>\n",
       "      <td>NaN</td>\n",
       "      <td>NaN</td>\n",
       "      <td>1.0</td>\n",
       "      <td>NaN</td>\n",
       "      <td>NaN</td>\n",
       "      <td>NaN</td>\n",
       "    </tr>\n",
       "    <tr>\n",
       "      <th>images_count</th>\n",
       "      <td>NaN</td>\n",
       "      <td>NaN</td>\n",
       "      <td>NaN</td>\n",
       "      <td>NaN</td>\n",
       "      <td>NaN</td>\n",
       "      <td>NaN</td>\n",
       "      <td>NaN</td>\n",
       "      <td>1.0</td>\n",
       "      <td>NaN</td>\n",
       "      <td>NaN</td>\n",
       "    </tr>\n",
       "    <tr>\n",
       "      <th>displacement</th>\n",
       "      <td>NaN</td>\n",
       "      <td>NaN</td>\n",
       "      <td>0.587763</td>\n",
       "      <td>NaN</td>\n",
       "      <td>NaN</td>\n",
       "      <td>NaN</td>\n",
       "      <td>NaN</td>\n",
       "      <td>NaN</td>\n",
       "      <td>1.000000</td>\n",
       "      <td>0.514093</td>\n",
       "    </tr>\n",
       "    <tr>\n",
       "      <th>horse_power</th>\n",
       "      <td>NaN</td>\n",
       "      <td>NaN</td>\n",
       "      <td>NaN</td>\n",
       "      <td>NaN</td>\n",
       "      <td>NaN</td>\n",
       "      <td>NaN</td>\n",
       "      <td>NaN</td>\n",
       "      <td>NaN</td>\n",
       "      <td>0.514093</td>\n",
       "      <td>1.000000</td>\n",
       "    </tr>\n",
       "  </tbody>\n",
       "</table>\n",
       "</div>"
      ],
      "text/plain": [
       "                 owners_number      year     price  with_nds  is_oficial  \\\n",
       "owners_number              1.0       NaN       NaN       NaN         NaN   \n",
       "year                       NaN  1.000000  0.573799       NaN         NaN   \n",
       "price                      NaN  0.573799  1.000000       NaN         NaN   \n",
       "with_nds                   NaN       NaN       NaN       1.0         NaN   \n",
       "is_oficial                 NaN       NaN       NaN       NaN         1.0   \n",
       "parents_ids_len            NaN       NaN       NaN       NaN         NaN   \n",
       "mileage                    NaN       NaN       NaN       NaN         NaN   \n",
       "images_count               NaN       NaN       NaN       NaN         NaN   \n",
       "displacement               NaN       NaN  0.587763       NaN         NaN   \n",
       "horse_power                NaN       NaN       NaN       NaN         NaN   \n",
       "\n",
       "                 parents_ids_len  mileage  images_count  displacement  \\\n",
       "owners_number                NaN      NaN           NaN           NaN   \n",
       "year                         NaN      NaN           NaN           NaN   \n",
       "price                        NaN      NaN           NaN      0.587763   \n",
       "with_nds                     NaN      NaN           NaN           NaN   \n",
       "is_oficial                   NaN      NaN           NaN           NaN   \n",
       "parents_ids_len              1.0      NaN           NaN           NaN   \n",
       "mileage                      NaN      1.0           NaN           NaN   \n",
       "images_count                 NaN      NaN           1.0           NaN   \n",
       "displacement                 NaN      NaN           NaN      1.000000   \n",
       "horse_power                  NaN      NaN           NaN      0.514093   \n",
       "\n",
       "                 horse_power  \n",
       "owners_number            NaN  \n",
       "year                     NaN  \n",
       "price                    NaN  \n",
       "with_nds                 NaN  \n",
       "is_oficial               NaN  \n",
       "parents_ids_len          NaN  \n",
       "mileage                  NaN  \n",
       "images_count             NaN  \n",
       "displacement        0.514093  \n",
       "horse_power         1.000000  "
      ]
     },
     "execution_count": 507,
     "metadata": {},
     "output_type": "execute_result"
    }
   ],
   "source": [
    "# Нет большой корреляции между таргетом и предикторами, но также нет и мультиколлинеарности что хорошо\n",
    "df_prep_vbr.corr()[df_prep_vbr.corr() > 0.5]"
   ]
  },
  {
   "cell_type": "code",
   "execution_count": 508,
   "id": "85253e56",
   "metadata": {},
   "outputs": [
    {
     "data": {
      "text/plain": [
       "['year', 'mileage', 'displacement', 'horse_power']"
      ]
     },
     "execution_count": 508,
     "metadata": {},
     "output_type": "execute_result"
    }
   ],
   "source": [
    "normalize_col = ['year', 'mileage', 'displacement', 'horse_power']\n",
    "normalize_col"
   ]
  },
  {
   "cell_type": "code",
   "execution_count": 509,
   "id": "580150fc",
   "metadata": {
    "code_folding": [
     1
    ]
   },
   "outputs": [],
   "source": [
    "# Обучаем разные модели и выбираем датасет\n",
    "def learn_model(data, model):\n",
    "    data = pd.get_dummies(data)\n",
    "    scaler = StandardScaler().fit(data[normalize_col])\n",
    "    data[normalize_col] = scaler.transform(data[normalize_col])\n",
    "    X = data.drop('price', axis=1)\n",
    "    y = data.price\n",
    "\n",
    "    print(f'Model: {str(model)}\\n')\n",
    "    print('Cross score:')\n",
    "    cross_score = cross_val_score(model, X=X, y=y, cv=10, n_jobs=-1)\n",
    "    print(f'Mean: {cross_score.mean()}')\n",
    "    print(f'Std: {cross_score.std()}\\n')\n"
   ]
  },
  {
   "cell_type": "code",
   "execution_count": 510,
   "id": "ab634e03",
   "metadata": {
    "code_folding": [
     1
    ]
   },
   "outputs": [
    {
     "name": "stdout",
     "output_type": "stream",
     "text": [
      "Model: RandomForestRegressor(random_state=42)\n",
      "\n",
      "Cross score:\n",
      "Mean: 0.8164988388740799\n",
      "Std: 0.03347097637745809\n",
      "\n",
      "Model: Ridge()\n",
      "\n",
      "Cross score:\n",
      "Mean: 0.7900752498035369\n",
      "Std: 0.03813172636080411\n",
      "\n",
      "Model: Lasso()\n",
      "\n",
      "Cross score:\n",
      "Mean: 0.7581040873913862\n",
      "Std: 0.05297828681289475\n",
      "\n"
     ]
    }
   ],
   "source": [
    "models = [RandomForestRegressor(random_state=42), Ridge(), Lasso()]\n",
    "for model in models:\n",
    "    learn_model(df_prep, model)"
   ]
  },
  {
   "cell_type": "code",
   "execution_count": 511,
   "id": "7584f067",
   "metadata": {
    "code_folding": [
     1
    ]
   },
   "outputs": [
    {
     "name": "stdout",
     "output_type": "stream",
     "text": [
      "Model: RandomForestRegressor(random_state=42)\n",
      "\n",
      "Cross score:\n",
      "Mean: 0.8684898415751476\n",
      "Std: 0.031246630479028596\n",
      "\n",
      "Model: Ridge()\n",
      "\n",
      "Cross score:\n",
      "Mean: 0.8381229253543692\n",
      "Std: 0.03958090177721107\n",
      "\n",
      "Model: Lasso()\n",
      "\n",
      "Cross score:\n",
      "Mean: 0.8162877490900607\n",
      "Std: 0.052891985092235194\n",
      "\n"
     ]
    }
   ],
   "source": [
    "models = [RandomForestRegressor(random_state=42), Ridge(), Lasso()]\n",
    "for model in models:\n",
    "    learn_model(df_prep_vbr, model)"
   ]
  },
  {
   "cell_type": "markdown",
   "id": "fe78fcea",
   "metadata": {
    "code_folding": []
   },
   "source": [
    "Видим что качество получилось лучше на датафрейме в котором выбросы были заменены\n",
    "крайними значениями, значит оставляем df_prep_vbr"
   ]
  },
  {
   "cell_type": "markdown",
   "id": "add60cb3",
   "metadata": {},
   "source": [
    "## Отбор признаков"
   ]
  },
  {
   "cell_type": "code",
   "execution_count": null,
   "id": "86b84b75",
   "metadata": {},
   "outputs": [],
   "source": [
    "# Кодируем категориальные переменные\n",
    "df_prep_vbr = pd.get_dummies(df_prep_vbr)\n",
    "\n",
    "# Нормализуем числовые предикторы\n",
    "scaler = StandardScaler().fit(df_prep_vbr[normalize_col])\n",
    "df_prep_vbr[normalize_col] = scaler.transform(df_prep_vbr[normalize_col])\n",
    "\n",
    "df_prep_vbr.head()"
   ]
  },
  {
   "cell_type": "code",
   "execution_count": 513,
   "id": "02b0a43b",
   "metadata": {
    "code_folding": [
     0
    ]
   },
   "outputs": [],
   "source": [
    "# Данных мало, будем использовать кросс-валидацию, без тестовой выборки, поэтому просто делим на X и y\n",
    "X = df_prep_vbr.drop('price', axis=1)\n",
    "y = df_prep_vbr.price"
   ]
  },
  {
   "cell_type": "code",
   "execution_count": 514,
   "id": "54fb0f03",
   "metadata": {
    "code_folding": [
     0
    ]
   },
   "outputs": [
    {
     "name": "stdout",
     "output_type": "stream",
     "text": [
      "Fitting 5 folds for each of 4 candidates, totalling 20 fits\n"
     ]
    },
    {
     "data": {
      "text/plain": [
       "GridSearchCV(cv=5, estimator=Lasso(), n_jobs=-1,\n",
       "             param_grid={'alpha': [9, 19, 29, 56]}, verbose=True)"
      ]
     },
     "execution_count": 514,
     "metadata": {},
     "output_type": "execute_result"
    },
    {
     "data": {
      "text/plain": [
       "(0.9053911362426825, {'alpha': 56})"
      ]
     },
     "execution_count": 514,
     "metadata": {},
     "output_type": "execute_result"
    }
   ],
   "source": [
    "# Попробуем использовать Lasso для отбора фичей\n",
    "params_lasso = {'alpha': [9, 19, 29, 56]}\n",
    "grid_lasso = GridSearchCV(Lasso(), param_grid=params_lasso, cv=5, verbose=True, n_jobs=-1)\n",
    "grid_lasso.fit(X, y)\n",
    "grid_lasso.score(X, y), grid_lasso.best_params_"
   ]
  },
  {
   "cell_type": "code",
   "execution_count": 515,
   "id": "993faae8",
   "metadata": {},
   "outputs": [
    {
     "data": {
      "text/plain": [
       "(-138669.2144102025, 8865.376901291991)"
      ]
     },
     "execution_count": 515,
     "metadata": {},
     "output_type": "execute_result"
    }
   ],
   "source": [
    "best_lasso = grid_lasso.best_estimator_\n",
    "cross_score_lasso = cross_val_score(best_lasso, X=X, y=y, cv=10, n_jobs=-1, scoring='neg_mean_absolute_error')\n",
    "cross_score_lasso.mean(), cross_score_lasso.std()"
   ]
  },
  {
   "cell_type": "code",
   "execution_count": 516,
   "id": "70e04a42",
   "metadata": {},
   "outputs": [
    {
     "data": {
      "text/html": [
       "<div>\n",
       "<style scoped>\n",
       "    .dataframe tbody tr th:only-of-type {\n",
       "        vertical-align: middle;\n",
       "    }\n",
       "\n",
       "    .dataframe tbody tr th {\n",
       "        vertical-align: top;\n",
       "    }\n",
       "\n",
       "    .dataframe thead th {\n",
       "        text-align: right;\n",
       "    }\n",
       "</style>\n",
       "<table border=\"1\" class=\"dataframe\">\n",
       "  <thead>\n",
       "    <tr style=\"text-align: right;\">\n",
       "      <th></th>\n",
       "      <th>name</th>\n",
       "      <th>importance</th>\n",
       "    </tr>\n",
       "  </thead>\n",
       "  <tbody>\n",
       "    <tr>\n",
       "      <th>303</th>\n",
       "      <td>city_Феодосия</td>\n",
       "      <td>783344.746091</td>\n",
       "    </tr>\n",
       "    <tr>\n",
       "      <th>367</th>\n",
       "      <td>mark_Harley-Davidson</td>\n",
       "      <td>619276.545876</td>\n",
       "    </tr>\n",
       "    <tr>\n",
       "      <th>797</th>\n",
       "      <td>model_info_VALKIRIE_1800</td>\n",
       "      <td>601253.354069</td>\n",
       "    </tr>\n",
       "    <tr>\n",
       "      <th>58</th>\n",
       "      <td>city_Волжский</td>\n",
       "      <td>558632.724786</td>\n",
       "    </tr>\n",
       "    <tr>\n",
       "      <th>428</th>\n",
       "      <td>model_info_3_112</td>\n",
       "      <td>553693.102426</td>\n",
       "    </tr>\n",
       "    <tr>\n",
       "      <th>373</th>\n",
       "      <td>mark_Indian</td>\n",
       "      <td>522425.129897</td>\n",
       "    </tr>\n",
       "    <tr>\n",
       "      <th>486</th>\n",
       "      <td>model_info_CBR_650_R</td>\n",
       "      <td>521186.080801</td>\n",
       "    </tr>\n",
       "    <tr>\n",
       "      <th>614</th>\n",
       "      <td>model_info_HP2_MEGAMOTO</td>\n",
       "      <td>506738.685018</td>\n",
       "    </tr>\n",
       "    <tr>\n",
       "      <th>375</th>\n",
       "      <td>mark_Jawa</td>\n",
       "      <td>506422.936943</td>\n",
       "    </tr>\n",
       "    <tr>\n",
       "      <th>756</th>\n",
       "      <td>model_info_STREET</td>\n",
       "      <td>502898.364265</td>\n",
       "    </tr>\n",
       "  </tbody>\n",
       "</table>\n",
       "</div>"
      ],
      "text/plain": [
       "                         name     importance\n",
       "303             city_Феодосия  783344.746091\n",
       "367      mark_Harley-Davidson  619276.545876\n",
       "797  model_info_VALKIRIE_1800  601253.354069\n",
       "58              city_Волжский  558632.724786\n",
       "428          model_info_3_112  553693.102426\n",
       "373               mark_Indian  522425.129897\n",
       "486      model_info_CBR_650_R  521186.080801\n",
       "614   model_info_HP2_MEGAMOTO  506738.685018\n",
       "375                 mark_Jawa  506422.936943\n",
       "756         model_info_STREET  502898.364265"
      ]
     },
     "execution_count": 516,
     "metadata": {},
     "output_type": "execute_result"
    }
   ],
   "source": [
    "features_importance = pd.DataFrame({'name': X.columns, 'importance': np.abs(best_lasso.coef_)})\n",
    "features_importance.sort_values('importance', ascending=False).head(10)"
   ]
  },
  {
   "cell_type": "code",
   "execution_count": 517,
   "id": "d3426b9b",
   "metadata": {},
   "outputs": [
    {
     "data": {
      "text/plain": [
       "412"
      ]
     },
     "execution_count": 517,
     "metadata": {},
     "output_type": "execute_result"
    }
   ],
   "source": [
    "sum(features_importance.importance == 0) # Смотрим количество фичей с нулевыми коэффициентами"
   ]
  },
  {
   "cell_type": "code",
   "execution_count": 518,
   "id": "bedde53c",
   "metadata": {
    "code_folding": [
     0
    ]
   },
   "outputs": [
    {
     "data": {
      "text/plain": [
       "(3334, 538)"
      ]
     },
     "execution_count": 518,
     "metadata": {},
     "output_type": "execute_result"
    }
   ],
   "source": [
    "# Удалим эти фичи\n",
    "not_importance = features_importance[features_importance.importance == 0].name.values\n",
    "X.drop(not_importance, axis=1, inplace=True)\n",
    "X.shape"
   ]
  },
  {
   "cell_type": "code",
   "execution_count": 528,
   "id": "42fdc0c5",
   "metadata": {
    "code_folding": [
     0
    ]
   },
   "outputs": [
    {
     "name": "stdout",
     "output_type": "stream",
     "text": [
      "Fitting 5 folds for each of 20 candidates, totalling 100 fits\n"
     ]
    },
    {
     "data": {
      "text/plain": [
       "GridSearchCV(cv=5, estimator=Lasso(), n_jobs=-1,\n",
       "             param_grid={'alpha': array([20. , 20.2, 20.4, 20.6, 20.8, 21. , 21.2, 21.4, 21.6, 21.8, 22. ,\n",
       "       22.2, 22.4, 22.6, 22.8, 23. , 23.2, 23.4, 23.6, 23.8])},\n",
       "             verbose=True)"
      ]
     },
     "execution_count": 528,
     "metadata": {},
     "output_type": "execute_result"
    },
    {
     "data": {
      "text/plain": [
       "(0.9124597580494236, {'alpha': 22.39999999999999})"
      ]
     },
     "execution_count": 528,
     "metadata": {},
     "output_type": "execute_result"
    }
   ],
   "source": [
    "# Переобучаем модель и смотрим качество\n",
    "params_lasso = {'alpha': np.arange(20, 24, 0.2)}\n",
    "grid_lasso = GridSearchCV(Lasso(), param_grid=params_lasso, cv=5, verbose=True, n_jobs=-1)\n",
    "grid_lasso.fit(X, y)\n",
    "grid_lasso.score(X, y), grid_lasso.best_params_"
   ]
  },
  {
   "cell_type": "code",
   "execution_count": 529,
   "id": "a9c0c581",
   "metadata": {},
   "outputs": [
    {
     "data": {
      "text/plain": [
       "(-134246.37567629473, 7901.116488433167)"
      ]
     },
     "execution_count": 529,
     "metadata": {},
     "output_type": "execute_result"
    }
   ],
   "source": [
    "best_lasso = grid_lasso.best_estimator_\n",
    "cross_score_lasso = cross_val_score(best_lasso, X=X, y=y, cv=10, n_jobs=-1, scoring='neg_mean_absolute_error')\n",
    "cross_score_lasso.mean(), cross_score_lasso.std()"
   ]
  },
  {
   "cell_type": "markdown",
   "id": "6ba98109",
   "metadata": {
    "code_folding": []
   },
   "source": [
    "Качество даже улучшилось, значит все сделали верно"
   ]
  },
  {
   "cell_type": "markdown",
   "id": "5970c118",
   "metadata": {},
   "source": [
    "## Построение финальной модели и её оценка"
   ]
  },
  {
   "cell_type": "code",
   "execution_count": 531,
   "id": "fac99858",
   "metadata": {
    "code_folding": [
     0
    ]
   },
   "outputs": [
    {
     "name": "stdout",
     "output_type": "stream",
     "text": [
      "Fitting 5 folds for each of 10 candidates, totalling 50 fits\n"
     ]
    },
    {
     "data": {
      "text/plain": [
       "RandomizedSearchCV(cv=5, estimator=RandomForestRegressor(random_state=42),\n",
       "                   n_jobs=-1,\n",
       "                   param_distributions={'criterion': ['mse', 'mae'],\n",
       "                                        'max_depth': range(1, 15, 2),\n",
       "                                        'max_features': range(50, 500, 50),\n",
       "                                        'n_estimators': [50, 100, 150, 200,\n",
       "                                                         250]},\n",
       "                   random_state=42, verbose=True)"
      ]
     },
     "execution_count": 531,
     "metadata": {},
     "output_type": "execute_result"
    },
    {
     "data": {
      "text/plain": [
       "0.9592601179079132"
      ]
     },
     "execution_count": 531,
     "metadata": {},
     "output_type": "execute_result"
    }
   ],
   "source": [
    "# Также обучим RandomForest и Ridge чтобы сравнить и выбрать финальную модель\n",
    "\n",
    "# Ищем лучшие гиперпараметры для Random Forest\n",
    "params_forest = {'n_estimators':[50, 100, 150, 200, 250], 'criterion': [\"mse\", \"mae\"], \n",
    "                 'max_depth': range(1, 15, 2), 'max_features': range(50, 500, 50)}\n",
    "grid_forest = RandomizedSearchCV(RandomForestRegressor(random_state=42), param_distributions=params_forest, cv=5, verbose=True, random_state=42, n_jobs=-1)\n",
    "grid_forest.fit(X, y)\n",
    "grid_forest.score(X, y)"
   ]
  },
  {
   "cell_type": "code",
   "execution_count": 532,
   "id": "0c09d114",
   "metadata": {
    "code_folding": [
     0
    ]
   },
   "outputs": [
    {
     "data": {
      "text/plain": [
       "(-114385.91569735641, 10618.762786489388)"
      ]
     },
     "execution_count": 532,
     "metadata": {},
     "output_type": "execute_result"
    }
   ],
   "source": [
    "# Смотрим MAE на кросс-валидации(Random Forest)\n",
    "best_forest = grid_forest.best_estimator_\n",
    "cross_score_forest = cross_val_score(best_forest, X=X, y=y, cv=10, n_jobs=-1, scoring='neg_mean_absolute_error')\n",
    "cross_score_forest.mean(), cross_score_forest.std()"
   ]
  },
  {
   "cell_type": "code",
   "execution_count": 533,
   "id": "eb086fb6",
   "metadata": {
    "code_folding": [
     0
    ]
   },
   "outputs": [
    {
     "name": "stdout",
     "output_type": "stream",
     "text": [
      "Fitting 5 folds for each of 49 candidates, totalling 245 fits\n"
     ]
    },
    {
     "data": {
      "text/plain": [
       "GridSearchCV(cv=5, estimator=Ridge(), n_jobs=-1,\n",
       "             param_grid={'alpha': array([0.2, 0.4, 0.6, 0.8, 1. , 1.2, 1.4, 1.6, 1.8, 2. , 2.2, 2.4, 2.6,\n",
       "       2.8, 3. , 3.2, 3.4, 3.6, 3.8, 4. , 4.2, 4.4, 4.6, 4.8, 5. , 5.2,\n",
       "       5.4, 5.6, 5.8, 6. , 6.2, 6.4, 6.6, 6.8, 7. , 7.2, 7.4, 7.6, 7.8,\n",
       "       8. , 8.2, 8.4, 8.6, 8.8, 9. , 9.2, 9.4, 9.6, 9.8])},\n",
       "             verbose=True)"
      ]
     },
     "execution_count": 533,
     "metadata": {},
     "output_type": "execute_result"
    },
    {
     "data": {
      "text/plain": [
       "(0.9094703362657366, {'alpha': 0.6000000000000001})"
      ]
     },
     "execution_count": 533,
     "metadata": {},
     "output_type": "execute_result"
    }
   ],
   "source": [
    "# Ищем лучшие гиперпараметры для Ridge\n",
    "params_ridge = {'alpha': np.arange(0.2, 10, 0.2)}\n",
    "grid_ridge = GridSearchCV(Ridge(), param_grid=params_ridge, cv=5, verbose=True, n_jobs=-1)\n",
    "grid_ridge.fit(X, y)\n",
    "grid_ridge.score(X, y), grid_ridge.best_params_"
   ]
  },
  {
   "cell_type": "code",
   "execution_count": 534,
   "id": "8a8a3054",
   "metadata": {
    "code_folding": [
     0
    ]
   },
   "outputs": [
    {
     "data": {
      "text/plain": [
       "(-132512.5146465097, 7716.435008925618)"
      ]
     },
     "execution_count": 534,
     "metadata": {},
     "output_type": "execute_result"
    }
   ],
   "source": [
    "# Смотрим MAE на кросс-валидации(Ridge)\n",
    "best_ridge = grid_ridge.best_estimator_\n",
    "cross_score_ridge = cross_val_score(best_ridge, X=X, y=y, cv=10, n_jobs=-1, scoring='neg_mean_absolute_error')\n",
    "cross_score_ridge.mean(), cross_score_ridge.std()"
   ]
  },
  {
   "cell_type": "code",
   "execution_count": 537,
   "id": "f62e3039",
   "metadata": {
    "code_folding": [
     0
    ]
   },
   "outputs": [
    {
     "data": {
      "text/plain": [
       "(15000, 1862500)"
      ]
     },
     "execution_count": 537,
     "metadata": {},
     "output_type": "execute_result"
    }
   ],
   "source": [
    "# Разброс цены\n",
    "df_prep_vbr.price.min(), df_prep_vbr.price.max()"
   ]
  },
  {
   "cell_type": "markdown",
   "id": "02fd5707",
   "metadata": {},
   "source": [
    "У Случайного Леса получается лучшая средняя оценка на кросс-валидации - 114т.р, а стандартное отклонение 10т.р что хуже чем у линейной регрессии но не намного. Выбираю Случайный Лес.\n",
    "\n",
    "Финальная оценка MAE:  114т.р при разбросе цены 1800т.р"
   ]
  },
  {
   "cell_type": "markdown",
   "id": "835e1c9e",
   "metadata": {},
   "source": [
    "## Сохранение результатов"
   ]
  },
  {
   "cell_type": "code",
   "execution_count": 539,
   "id": "b2ad285a",
   "metadata": {},
   "outputs": [],
   "source": [
    "# Сохраняем модель\n",
    "with open('data/RandFor.pickle', 'wb') as file:\n",
    "    pickle.dump(best_forest, file)"
   ]
  },
  {
   "cell_type": "code",
   "execution_count": 541,
   "id": "9a003c55",
   "metadata": {},
   "outputs": [],
   "source": [
    "# Сохраняем обучающие данные\n",
    "X.to_csv('data/X.csv', index=False)\n",
    "y.to_csv('data/y.csv', index=False)"
   ]
  },
  {
   "cell_type": "code",
   "execution_count": 542,
   "id": "1b230b79",
   "metadata": {},
   "outputs": [],
   "source": [
    "# Сохраняем Scaler\n",
    "with open('data/scale.pickle', 'wb') as file:\n",
    "    pickle.dump(scaler, file)"
   ]
  },
  {
   "cell_type": "code",
   "execution_count": null,
   "id": "760a2b5a",
   "metadata": {},
   "outputs": [],
   "source": []
  }
 ],
 "metadata": {
  "kernelspec": {
   "display_name": "Python 3 (ipykernel)",
   "language": "python",
   "name": "python3"
  },
  "language_info": {
   "codemirror_mode": {
    "name": "ipython",
    "version": 3
   },
   "file_extension": ".py",
   "mimetype": "text/x-python",
   "name": "python",
   "nbconvert_exporter": "python",
   "pygments_lexer": "ipython3",
   "version": "3.9.7"
  },
  "toc": {
   "base_numbering": 1,
   "nav_menu": {},
   "number_sections": true,
   "sideBar": true,
   "skip_h1_title": false,
   "title_cell": "Table of Contents",
   "title_sidebar": "Contents",
   "toc_cell": false,
   "toc_position": {},
   "toc_section_display": true,
   "toc_window_display": false
  }
 },
 "nbformat": 4,
 "nbformat_minor": 5
}
